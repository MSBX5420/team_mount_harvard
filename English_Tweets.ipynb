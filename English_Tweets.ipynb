{
  "nbformat": 4,
  "nbformat_minor": 0,
  "metadata": {
    "colab": {
      "name": "English Tweets.ipynb",
      "provenance": [],
      "collapsed_sections": []
    },
    "kernelspec": {
      "name": "python3",
      "display_name": "Python 3"
    }
  },
  "cells": [
    {
      "cell_type": "code",
      "metadata": {
        "id": "H8ZSeLNhueel",
        "colab_type": "code",
        "colab": {}
      },
      "source": [
        "import pandas as pd"
      ],
      "execution_count": 0,
      "outputs": []
    },
    {
      "cell_type": "code",
      "metadata": {
        "id": "mO5S3QIhxEJ6",
        "colab_type": "code",
        "outputId": "fd8b30b5-ee16-4b3b-d3b7-9c0437faf05a",
        "colab": {
          "base_uri": "https://localhost:8080/",
          "height": 34
        }
      },
      "source": [
        "from google.colab import drive\n",
        "drive.mount('/content/drive')"
      ],
      "execution_count": 0,
      "outputs": [
        {
          "output_type": "stream",
          "text": [
            "Drive already mounted at /content/drive; to attempt to forcibly remount, call drive.mount(\"/content/drive\", force_remount=True).\n"
          ],
          "name": "stdout"
        }
      ]
    },
    {
      "cell_type": "code",
      "metadata": {
        "id": "04wFWSxEugXK",
        "colab_type": "code",
        "colab": {}
      },
      "source": [
        "\n",
        "## You will probably have to save the \"small_english_tweets.csv\" to your own drive somewhere. Not sure how to read a file from a shared folder.\n",
        "small_tweets = pd.read_csv('/content/drive/My Drive/MSBX_5420/small_english_tweets').drop(['Unnamed: 0', 'lang', 'country_code', 'place_full_name'], axis=1)\n",
        "\n",
        "## Convert to datetime and rename column 'date'\n",
        "small_tweets['created_at'] = pd.to_datetime(small_tweets['created_at'], errors='coerce', format=\"%Y-%m-%d\").dt.date\n",
        "small_tweets.columns = ['date', 'screen_name', 'text', 'source', 'favourites_count',\n",
        "                        'retweet_count', 'followers_count', 'verified']"
      ],
      "execution_count": 0,
      "outputs": []
    },
    {
      "cell_type": "code",
      "metadata": {
        "id": "CjjyYRbx4WX4",
        "colab_type": "code",
        "colab": {}
      },
      "source": [
        "## Converting verified column to 1's and 0's\n",
        "small_tweets['verified'] = small_tweets['verified'].replace(to_replace=True, value=1)"
      ],
      "execution_count": 0,
      "outputs": []
    },
    {
      "cell_type": "code",
      "metadata": {
        "id": "BX8Fmba-vla5",
        "colab_type": "code",
        "outputId": "b2a3b061-b4e9-4cba-fae8-4c0ae160c4db",
        "colab": {
          "base_uri": "https://localhost:8080/",
          "height": 204
        }
      },
      "source": [
        "small_tweets.head()"
      ],
      "execution_count": 73,
      "outputs": [
        {
          "output_type": "execute_result",
          "data": {
            "text/html": [
              "<div>\n",
              "<style scoped>\n",
              "    .dataframe tbody tr th:only-of-type {\n",
              "        vertical-align: middle;\n",
              "    }\n",
              "\n",
              "    .dataframe tbody tr th {\n",
              "        vertical-align: top;\n",
              "    }\n",
              "\n",
              "    .dataframe thead th {\n",
              "        text-align: right;\n",
              "    }\n",
              "</style>\n",
              "<table border=\"1\" class=\"dataframe\">\n",
              "  <thead>\n",
              "    <tr style=\"text-align: right;\">\n",
              "      <th></th>\n",
              "      <th>date</th>\n",
              "      <th>screen_name</th>\n",
              "      <th>text</th>\n",
              "      <th>source</th>\n",
              "      <th>favourites_count</th>\n",
              "      <th>retweet_count</th>\n",
              "      <th>followers_count</th>\n",
              "      <th>verified</th>\n",
              "    </tr>\n",
              "  </thead>\n",
              "  <tbody>\n",
              "    <tr>\n",
              "      <th>0</th>\n",
              "      <td>2020-03-04</td>\n",
              "      <td>David_Mulroney</td>\n",
              "      <td>China’s wildlife trade via @SCMPgraphics  http...</td>\n",
              "      <td>Twitter for iPad</td>\n",
              "      <td>1697.0</td>\n",
              "      <td>2.0</td>\n",
              "      <td>5666</td>\n",
              "      <td>0.0</td>\n",
              "    </tr>\n",
              "    <tr>\n",
              "      <th>1</th>\n",
              "      <td>2020-03-04</td>\n",
              "      <td>MarykeSchoonen</td>\n",
              "      <td>Proof that the media such as @CNN is unnecessa...</td>\n",
              "      <td>Twitter for iPhone</td>\n",
              "      <td>833.0</td>\n",
              "      <td>0.0</td>\n",
              "      <td>41</td>\n",
              "      <td>0.0</td>\n",
              "    </tr>\n",
              "    <tr>\n",
              "      <th>2</th>\n",
              "      <td>2020-03-04</td>\n",
              "      <td>Arjit_Garg</td>\n",
              "      <td>Indians are a shitty breed of humans. With the...</td>\n",
              "      <td>Twitter for Android</td>\n",
              "      <td>1921.0</td>\n",
              "      <td>0.0</td>\n",
              "      <td>486</td>\n",
              "      <td>0.0</td>\n",
              "    </tr>\n",
              "    <tr>\n",
              "      <th>3</th>\n",
              "      <td>2020-03-04</td>\n",
              "      <td>latestly</td>\n",
              "      <td>#CoronavirusOutbreak in India: Techies at #Hyd...</td>\n",
              "      <td>Twitter Web App</td>\n",
              "      <td>68.0</td>\n",
              "      <td>0.0</td>\n",
              "      <td>55685</td>\n",
              "      <td>1.0</td>\n",
              "    </tr>\n",
              "    <tr>\n",
              "      <th>4</th>\n",
              "      <td>2020-03-04</td>\n",
              "      <td>daily_thetha</td>\n",
              "      <td>Today’s insightful episode answered the freque...</td>\n",
              "      <td>Twitter for iPhone</td>\n",
              "      <td>8074.0</td>\n",
              "      <td>4.0</td>\n",
              "      <td>35093</td>\n",
              "      <td>0.0</td>\n",
              "    </tr>\n",
              "  </tbody>\n",
              "</table>\n",
              "</div>"
            ],
            "text/plain": [
              "         date     screen_name  ... followers_count verified\n",
              "0  2020-03-04  David_Mulroney  ...            5666      0.0\n",
              "1  2020-03-04  MarykeSchoonen  ...              41      0.0\n",
              "2  2020-03-04      Arjit_Garg  ...             486      0.0\n",
              "3  2020-03-04        latestly  ...           55685      1.0\n",
              "4  2020-03-04    daily_thetha  ...           35093      0.0\n",
              "\n",
              "[5 rows x 8 columns]"
            ]
          },
          "metadata": {
            "tags": []
          },
          "execution_count": 73
        }
      ]
    },
    {
      "cell_type": "code",
      "metadata": {
        "id": "HNzYdl2l4PKn",
        "colab_type": "code",
        "outputId": "f55228c6-5520-4afd-a8e6-6b242090a6d1",
        "colab": {
          "base_uri": "https://localhost:8080/",
          "height": 170
        }
      },
      "source": [
        "## country code and place full name have a lot of NaN values\n",
        "small_tweets.isnull().sum()"
      ],
      "execution_count": 74,
      "outputs": [
        {
          "output_type": "execute_result",
          "data": {
            "text/plain": [
              "date                0\n",
              "screen_name         0\n",
              "text                0\n",
              "source              0\n",
              "favourites_count    0\n",
              "retweet_count       0\n",
              "followers_count     0\n",
              "verified            0\n",
              "dtype: int64"
            ]
          },
          "metadata": {
            "tags": []
          },
          "execution_count": 74
        }
      ]
    },
    {
      "cell_type": "code",
      "metadata": {
        "id": "y9eoQyqf5BIP",
        "colab_type": "code",
        "colab": {}
      },
      "source": [
        ""
      ],
      "execution_count": 0,
      "outputs": []
    }
  ]
}