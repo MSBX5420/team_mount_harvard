{
  "nbformat": 4,
  "nbformat_minor": 0,
  "metadata": {
    "colab": {
      "name": "English Tweets.ipynb",
      "provenance": [],
      "collapsed_sections": [],
      "toc_visible": true
    },
    "kernelspec": {
      "name": "python3",
      "display_name": "Python 3"
    }
  },
  "cells": [
    {
      "cell_type": "code",
      "metadata": {
        "id": "H8ZSeLNhueel",
        "colab_type": "code",
        "colab": {}
      },
      "source": [
        "import pandas as pd"
      ],
      "execution_count": 0,
      "outputs": []
    },
    {
      "cell_type": "code",
      "metadata": {
        "id": "04wFWSxEugXK",
        "colab_type": "code",
        "colab": {}
      },
      "source": [
        "small_tweets = pd.read_csv('./small_english_tweets.csv').drop(['Unnamed: 0', 'lang', 'country_code', 'place_full_name'], axis=1)\n",
        "\n",
        "## Convert to datetime and rename column 'date'\n",
        "small_tweets['created_at'] = pd.to_datetime(small_tweets['created_at'], errors='coerce', format=\"%Y-%m-%d\").dt.date\n",
        "small_tweets.columns = ['date', 'screen_name', 'text', 'source', 'favourites_count',\n",
        "                        'retweet_count', 'followers_count', 'verified']"
      ],
      "execution_count": 0,
      "outputs": []
    },
    {
      "cell_type": "code",
      "metadata": {
        "id": "CjjyYRbx4WX4",
        "colab_type": "code",
        "colab": {}
      },
      "source": [
        "## Converting verified column to 1's and 0's\n",
        "small_tweets['verified'] = small_tweets['verified'].replace(to_replace=True, value=1)"
      ],
      "execution_count": 0,
      "outputs": []
    },
    {
      "cell_type": "code",
      "metadata": {
        "id": "BX8Fmba-vla5",
        "colab_type": "code",
        "outputId": "47e2491f-08ee-4aef-9138-777e4130dbc1",
        "colab": {
          "base_uri": "https://localhost:8080/",
          "height": 224
        }
      },
      "source": [
        "small_tweets.head()"
      ],
      "execution_count": 0,
      "outputs": [
        {
          "output_type": "execute_result",
          "data": {
            "text/html": [
              "<div>\n",
              "<style scoped>\n",
              "    .dataframe tbody tr th:only-of-type {\n",
              "        vertical-align: middle;\n",
              "    }\n",
              "\n",
              "    .dataframe tbody tr th {\n",
              "        vertical-align: top;\n",
              "    }\n",
              "\n",
              "    .dataframe thead th {\n",
              "        text-align: right;\n",
              "    }\n",
              "</style>\n",
              "<table border=\"1\" class=\"dataframe\">\n",
              "  <thead>\n",
              "    <tr style=\"text-align: right;\">\n",
              "      <th></th>\n",
              "      <th>date</th>\n",
              "      <th>screen_name</th>\n",
              "      <th>text</th>\n",
              "      <th>source</th>\n",
              "      <th>favourites_count</th>\n",
              "      <th>retweet_count</th>\n",
              "      <th>followers_count</th>\n",
              "      <th>verified</th>\n",
              "    </tr>\n",
              "  </thead>\n",
              "  <tbody>\n",
              "    <tr>\n",
              "      <th>0</th>\n",
              "      <td>2020-03-26</td>\n",
              "      <td>AnnaKealan</td>\n",
              "      <td>hoping for more contagious #love after this st...</td>\n",
              "      <td>Twitter for iPhone</td>\n",
              "      <td>0.0</td>\n",
              "      <td>0.0</td>\n",
              "      <td>10.0</td>\n",
              "      <td>0.0</td>\n",
              "    </tr>\n",
              "    <tr>\n",
              "      <th>1</th>\n",
              "      <td>2020-03-12</td>\n",
              "      <td>DrPaulRLong1</td>\n",
              "      <td>Is Trump even consulting with his experts? The...</td>\n",
              "      <td>Twitter for iPhone</td>\n",
              "      <td>51.0</td>\n",
              "      <td>1.0</td>\n",
              "      <td>6.0</td>\n",
              "      <td>0.0</td>\n",
              "    </tr>\n",
              "    <tr>\n",
              "      <th>2</th>\n",
              "      <td>2020-03-21</td>\n",
              "      <td>Sakthi_match</td>\n",
              "      <td>#coronavirus #Covid_19 #workingfromhome #WorkF...</td>\n",
              "      <td>Twitter for iPhone</td>\n",
              "      <td>41.0</td>\n",
              "      <td>0.0</td>\n",
              "      <td>61.0</td>\n",
              "      <td>0.0</td>\n",
              "    </tr>\n",
              "    <tr>\n",
              "      <th>3</th>\n",
              "      <td>2020-03-25</td>\n",
              "      <td>Agarwal_b_mohit</td>\n",
              "      <td>Reason for Corona Outbreak #coronovirusoutbrea...</td>\n",
              "      <td>Instagram</td>\n",
              "      <td>1.0</td>\n",
              "      <td>0.0</td>\n",
              "      <td>11.0</td>\n",
              "      <td>0.0</td>\n",
              "    </tr>\n",
              "    <tr>\n",
              "      <th>4</th>\n",
              "      <td>2020-03-18</td>\n",
              "      <td>DavidKatee</td>\n",
              "      <td>During this period of #Covid_19 you will to kn...</td>\n",
              "      <td>Twitter for iPhone</td>\n",
              "      <td>10345.0</td>\n",
              "      <td>1.0</td>\n",
              "      <td>989.0</td>\n",
              "      <td>0.0</td>\n",
              "    </tr>\n",
              "  </tbody>\n",
              "</table>\n",
              "</div>"
            ],
            "text/plain": [
              "         date      screen_name  ... followers_count verified\n",
              "0  2020-03-26       AnnaKealan  ...            10.0      0.0\n",
              "1  2020-03-12     DrPaulRLong1  ...             6.0      0.0\n",
              "2  2020-03-21     Sakthi_match  ...            61.0      0.0\n",
              "3  2020-03-25  Agarwal_b_mohit  ...            11.0      0.0\n",
              "4  2020-03-18       DavidKatee  ...           989.0      0.0\n",
              "\n",
              "[5 rows x 8 columns]"
            ]
          },
          "metadata": {
            "tags": []
          },
          "execution_count": 28
        }
      ]
    },
    {
      "cell_type": "code",
      "metadata": {
        "id": "HNzYdl2l4PKn",
        "colab_type": "code",
        "outputId": "722500e4-f679-4a65-dbfd-9557df1da619",
        "colab": {
          "base_uri": "https://localhost:8080/",
          "height": 216
        }
      },
      "source": [
        "## country code and place full name have a lot of NaN values\n",
        "small_tweets.isnull().sum()"
      ],
      "execution_count": 0,
      "outputs": [
        {
          "output_type": "execute_result",
          "data": {
            "text/plain": [
              "date                0\n",
              "screen_name         0\n",
              "text                0\n",
              "source              0\n",
              "favourites_count    0\n",
              "retweet_count       0\n",
              "followers_count     0\n",
              "verified            0\n",
              "dtype: int64"
            ]
          },
          "metadata": {
            "tags": []
          },
          "execution_count": 29
        }
      ]
    },
    {
      "cell_type": "code",
      "metadata": {
        "colab_type": "code",
        "outputId": "b847f034-e3c5-4d9f-c4c5-d5259ac957b5",
        "id": "7v9U-A5f49OP",
        "colab": {
          "base_uri": "https://localhost:8080/",
          "height": 1000
        }
      },
      "source": [
        "words = []\n",
        "for i in range (len(small_tweets)):\n",
        "    tweet = list(small_tweets['text'].iloc[i].split())\n",
        "    for x in range (len(tweet)):\n",
        "        words.append(tweet[x].lower())\n",
        "######################################### Below is getting Stopwords.\n",
        "import nltk\n",
        "from nltk.corpus import stopwords\n",
        "nltk.download('stopwords')\n",
        "stopWords = set(stopwords.words('english'))\n",
        "Extra_StopWords = ['#coronavirusoutbreak','#coronavirus','#coronavirus','#covid19','#coronaalert','#covid_19','coronavirus','#covidー19','#covid2019','-','virus','#covid'\n",
        ",'get','like','total','#coronvirus','#coronavirusupdate','#coronaoutbreak','#coronavirusoutbreak.','corona','#corona','.','#coronavirusupdates','it’s','#coronaviruspandemic']\n",
        "\n",
        "#######################\n",
        "def get_word_counts(words):\n",
        "    \"\"\"\n",
        "    return sorted (word, count) list, sort by count\n",
        "    \"\"\"\n",
        "    word_count_dict = {}\n",
        "    for word in words:\n",
        "                if word in list(stopWords):\n",
        "                    continue\n",
        "                if word in list(Extra_StopWords):\n",
        "                    continue\n",
        "                if word not in word_count_dict:\n",
        "                    word_count_dict[word] = 0\n",
        "                word_count_dict[word] += 1\n",
        "    \n",
        "    sorted_word_counts = sorted(word_count_dict.items(), key = lambda kv:kv[1], reverse = True)\n",
        "    return sorted_word_counts\n",
        "#%%\n",
        "word_counts = get_word_counts(words)\n",
        "for word, count in word_counts[:50]:\n",
        "    print(word, count)"
      ],
      "execution_count": 0,
      "outputs": [
        {
          "output_type": "stream",
          "text": [
            "[nltk_data] Downloading package stopwords to /root/nltk_data...\n",
            "[nltk_data]   Package stopwords is already up-to-date!\n",
            "&amp; 7885\n",
            "people 7153\n",
            "us 4302\n",
            "new 3860\n",
            "cases 3734\n",
            "need 3508\n",
            "help 3488\n",
            "stay 3451\n",
            "time 3119\n",
            "one 3113\n",
            "please 2855\n",
            "health 2665\n",
            "home 2635\n",
            "going 2467\n",
            "know 2355\n",
            "support 2280\n",
            "take 2233\n",
            "world 2197\n",
            "spread 2177\n",
            "still 2131\n",
            "would 2098\n",
            "due 2070\n",
            "via 2021\n",
            "go 2005\n",
            "many 1979\n",
            "covid-19 1934\n",
            "@realdonaldtrump 1915\n",
            "make 1911\n",
            "keep 1903\n",
            "see 1886\n",
            "work 1868\n",
            "#covid19. 1801\n",
            "even 1787\n",
            "trump 1776\n",
            "social 1775\n",
            "pandemic 1748\n",
            "day 1741\n",
            "could 1696\n",
            "good 1684\n",
            "fight 1658\n",
            "first 1632\n",
            "stop 1622\n",
            "government 1617\n",
            "think 1613\n",
            "last 1589\n",
            "must 1544\n",
            "right 1527\n",
            "positive 1510\n",
            "#coronavirus. 1488\n",
            "may 1473\n"
          ],
          "name": "stdout"
        }
      ]
    },
    {
      "cell_type": "code",
      "metadata": {
        "id": "ZSp_g1vcdP-7",
        "colab_type": "code",
        "outputId": "956316d7-54bb-4b50-8189-b466bc75ea95",
        "colab": {
          "base_uri": "https://localhost:8080/",
          "height": 40
        }
      },
      "source": [
        "type(word_counts)"
      ],
      "execution_count": 0,
      "outputs": [
        {
          "output_type": "execute_result",
          "data": {
            "text/plain": [
              "list"
            ]
          },
          "metadata": {
            "tags": []
          },
          "execution_count": 31
        }
      ]
    },
    {
      "cell_type": "code",
      "metadata": {
        "id": "5yL-6RjhkXys",
        "colab_type": "code",
        "outputId": "74396128-871a-463c-ffd8-67f579c1dbcc",
        "colab": {
          "base_uri": "https://localhost:8080/",
          "height": 198
        }
      },
      "source": [
        "import matplotlib.pyplot as plt\n",
        "from wordcloud import WordCloud, STOPWORDS\n",
        "\n",
        "text = ' '.join(words)\n",
        "text = text.lower()\n",
        "stopwords = set(STOPWORDS)\n",
        "stopwords.update([\"https\",'amp','corona','covid','covid19','covid_19','covid[]]19','coronvirus','coronavirusupdate',\"coronavirus\", \"coronavirusoutbreak\", \"virus\", \"coronaalert\", 'co'])\n",
        "stopwords.update(stopWords)\n",
        "stopwords.update(Extra_StopWords)\n",
        "wordcloud = WordCloud(max_words=50,background_color=\"white\",stopwords=stopwords).generate(text)\n",
        "\n",
        "# Display the generated image:\n",
        "plt.imshow(wordcloud, interpolation='bilinear')\n",
        "plt.axis(\"off\")\n",
        "plt.show()"
      ],
      "execution_count": 0,
      "outputs": [
        {
          "output_type": "display_data",
          "data": {
            "image/png": "[encoded data removed]",
            "text/plain": [
              "<Figure size 432x288 with 1 Axes>"
            ]
          },
          "metadata": {
            "tags": [],
            "needs_background": "light"
          }
        }
      ]
    },
    {
      "cell_type": "markdown",
      "metadata": {
        "id": "OSuzmxewQ5aN",
        "colab_type": "text"
      },
      "source": [
        "### Sentiment Analysis"
      ]
    },
    {
      "cell_type": "code",
      "metadata": {
        "id": "UjUhAe_wRrHv",
        "colab_type": "code",
        "colab": {}
      },
      "source": [
        "from textblob import TextBlob"
      ],
      "execution_count": 0,
      "outputs": []
    },
    {
      "cell_type": "code",
      "metadata": {
        "id": "Wjl3gEPnYKaI",
        "colab_type": "code",
        "colab": {}
      },
      "source": [
        "#creating a list of tweets from the series to make looping easier\n",
        "tweet_list = []\n",
        "\n",
        "for atweet in small_tweets['text']:\n",
        "  tweet_list.append(atweet)\n"
      ],
      "execution_count": 0,
      "outputs": []
    },
    {
      "cell_type": "code",
      "metadata": {
        "id": "7w5PUfY2X0dH",
        "colab_type": "code",
        "outputId": "ffabd717-b68f-40d8-c0e2-925f5e1db6f2",
        "colab": {
          "base_uri": "https://localhost:8080/",
          "height": 34
        }
      },
      "source": [
        "#an empty list to hold sentiment scores\n",
        "sentimentscores = []\n",
        "\n",
        "# enumerate gives us the index and content of an item we loop over\n",
        "for i, atweet in enumerate(tweet_list):\n",
        "\n",
        "  text = tweet_list[i]\n",
        "  textannotation = TextBlob(text)\n",
        "  sentimentscore = textannotation.sentiment.polarity\n",
        "  \n",
        "  sentimentscores.append(sentimentscore)\n",
        "\n",
        "print(len(sentimentscores))\n",
        "\n",
        "    "
      ],
      "execution_count": 0,
      "outputs": [
        {
          "output_type": "stream",
          "text": [
            "81793\n"
          ],
          "name": "stdout"
        }
      ]
    },
    {
      "cell_type": "markdown",
      "metadata": {
        "id": "DEhQ1wu4ceIf",
        "colab_type": "text"
      },
      "source": [
        " \"The polarity score is a float within the range [-1.0, 1.0]\"  \n",
        "\n",
        "Closer to 1: positive  \n",
        "Closer to 0: neutral  \n",
        "Closer to -1: negative"
      ]
    },
    {
      "cell_type": "code",
      "metadata": {
        "id": "p0t2oc_ubgnB",
        "colab_type": "code",
        "outputId": "31e29efa-8b4f-4f6d-9705-acfd55300342",
        "colab": {
          "base_uri": "https://localhost:8080/",
          "height": 170
        }
      },
      "source": [
        "#make sure the loop did what I wanted it to\n",
        "sentimentscores[0:9]"
      ],
      "execution_count": 0,
      "outputs": [
        {
          "output_type": "execute_result",
          "data": {
            "text/plain": [
              "[0.04999999999999999,\n",
              " 0.10625,\n",
              " 0.07500000000000001,\n",
              " 0.0,\n",
              " 0.425,\n",
              " -0.13333333333333333,\n",
              " 0.0,\n",
              " -0.3,\n",
              " 0.26666666666666666]"
            ]
          },
          "metadata": {
            "tags": []
          },
          "execution_count": 24
        }
      ]
    },
    {
      "cell_type": "code",
      "metadata": {
        "id": "8VeWLFt_c7xG",
        "colab_type": "code",
        "outputId": "371bffcf-906e-4565-a6fe-d97585d167bc",
        "colab": {
          "base_uri": "https://localhost:8080/",
          "height": 51
        }
      },
      "source": [
        "#making sure the lengths are equal before adding a new column of sentiment scores\n",
        "print(len(sentimentscores))\n",
        "print(len(small_tweets['text']))"
      ],
      "execution_count": 0,
      "outputs": [
        {
          "output_type": "stream",
          "text": [
            "81793\n",
            "81793\n"
          ],
          "name": "stdout"
        }
      ]
    },
    {
      "cell_type": "code",
      "metadata": {
        "id": "VTAwyUbedRx8",
        "colab_type": "code",
        "outputId": "1414d2a0-f51d-4175-e85b-d7cc5adfd6b2",
        "colab": {
          "base_uri": "https://localhost:8080/",
          "height": 204
        }
      },
      "source": [
        "small_tweets['sentiment'] = sentimentscores\n",
        "small_tweets.head()"
      ],
      "execution_count": 0,
      "outputs": [
        {
          "output_type": "execute_result",
          "data": {
            "text/html": [
              "<div>\n",
              "<style scoped>\n",
              "    .dataframe tbody tr th:only-of-type {\n",
              "        vertical-align: middle;\n",
              "    }\n",
              "\n",
              "    .dataframe tbody tr th {\n",
              "        vertical-align: top;\n",
              "    }\n",
              "\n",
              "    .dataframe thead th {\n",
              "        text-align: right;\n",
              "    }\n",
              "</style>\n",
              "<table border=\"1\" class=\"dataframe\">\n",
              "  <thead>\n",
              "    <tr style=\"text-align: right;\">\n",
              "      <th></th>\n",
              "      <th>date</th>\n",
              "      <th>screen_name</th>\n",
              "      <th>text</th>\n",
              "      <th>source</th>\n",
              "      <th>favourites_count</th>\n",
              "      <th>retweet_count</th>\n",
              "      <th>followers_count</th>\n",
              "      <th>verified</th>\n",
              "      <th>sentiment</th>\n",
              "    </tr>\n",
              "  </thead>\n",
              "  <tbody>\n",
              "    <tr>\n",
              "      <th>0</th>\n",
              "      <td>2020-03-26</td>\n",
              "      <td>AnnaKealan</td>\n",
              "      <td>hoping for more contagious #love after this st...</td>\n",
              "      <td>Twitter for iPhone</td>\n",
              "      <td>0.0</td>\n",
              "      <td>0.0</td>\n",
              "      <td>10.0</td>\n",
              "      <td>0.0</td>\n",
              "      <td>0.05000</td>\n",
              "    </tr>\n",
              "    <tr>\n",
              "      <th>1</th>\n",
              "      <td>2020-03-12</td>\n",
              "      <td>DrPaulRLong1</td>\n",
              "      <td>Is Trump even consulting with his experts? The...</td>\n",
              "      <td>Twitter for iPhone</td>\n",
              "      <td>51.0</td>\n",
              "      <td>1.0</td>\n",
              "      <td>6.0</td>\n",
              "      <td>0.0</td>\n",
              "      <td>0.10625</td>\n",
              "    </tr>\n",
              "    <tr>\n",
              "      <th>2</th>\n",
              "      <td>2020-03-21</td>\n",
              "      <td>Sakthi_match</td>\n",
              "      <td>#coronavirus #Covid_19 #workingfromhome #WorkF...</td>\n",
              "      <td>Twitter for iPhone</td>\n",
              "      <td>41.0</td>\n",
              "      <td>0.0</td>\n",
              "      <td>61.0</td>\n",
              "      <td>0.0</td>\n",
              "      <td>0.07500</td>\n",
              "    </tr>\n",
              "    <tr>\n",
              "      <th>3</th>\n",
              "      <td>2020-03-25</td>\n",
              "      <td>Agarwal_b_mohit</td>\n",
              "      <td>Reason for Corona Outbreak #coronovirusoutbrea...</td>\n",
              "      <td>Instagram</td>\n",
              "      <td>1.0</td>\n",
              "      <td>0.0</td>\n",
              "      <td>11.0</td>\n",
              "      <td>0.0</td>\n",
              "      <td>0.00000</td>\n",
              "    </tr>\n",
              "    <tr>\n",
              "      <th>4</th>\n",
              "      <td>2020-03-18</td>\n",
              "      <td>DavidKatee</td>\n",
              "      <td>During this period of #Covid_19 you will to kn...</td>\n",
              "      <td>Twitter for iPhone</td>\n",
              "      <td>10345.0</td>\n",
              "      <td>1.0</td>\n",
              "      <td>989.0</td>\n",
              "      <td>0.0</td>\n",
              "      <td>0.42500</td>\n",
              "    </tr>\n",
              "  </tbody>\n",
              "</table>\n",
              "</div>"
            ],
            "text/plain": [
              "         date      screen_name  ... verified sentiment\n",
              "0  2020-03-26       AnnaKealan  ...      0.0   0.05000\n",
              "1  2020-03-12     DrPaulRLong1  ...      0.0   0.10625\n",
              "2  2020-03-21     Sakthi_match  ...      0.0   0.07500\n",
              "3  2020-03-25  Agarwal_b_mohit  ...      0.0   0.00000\n",
              "4  2020-03-18       DavidKatee  ...      0.0   0.42500\n",
              "\n",
              "[5 rows x 9 columns]"
            ]
          },
          "metadata": {
            "tags": []
          },
          "execution_count": 27
        }
      ]
    },
    {
      "cell_type": "markdown",
      "metadata": {
        "id": "3zCRZ_GJd-Nd",
        "colab_type": "text"
      },
      "source": [
        "Now we can plot sentiment over time"
      ]
    },
    {
      "cell_type": "markdown",
      "metadata": {
        "id": "9Js0rfTdRkYg",
        "colab_type": "text"
      },
      "source": [
        "### Topic Modeling"
      ]
    },
    {
      "cell_type": "code",
      "metadata": {
        "id": "_XDW7ri4WDV0",
        "colab_type": "code",
        "outputId": "ba5deec3-feb1-4d47-f55c-50fce8897739",
        "colab": {
          "base_uri": "https://localhost:8080/",
          "height": 766
        }
      },
      "source": [
        "!pip install tmtoolkit\n",
        "\n",
        "import nltk\n",
        "nltk.download('stopwords')\n",
        "nltk.download('punkt')\n",
        "nltk.download('averaged_perceptron_tagger')\n",
        "nltk.download('wordnet')"
      ],
      "execution_count": 0,
      "outputs": [
        {
          "output_type": "stream",
          "text": [
            "Requirement already satisfied: tmtoolkit in /usr/local/lib/python3.6/dist-packages (0.9.0)\n",
            "Requirement already satisfied: pandas>=0.25.0 in /usr/local/lib/python3.6/dist-packages (from tmtoolkit) (1.0.3)\n",
            "Requirement already satisfied: globre>=0.1.5 in /usr/local/lib/python3.6/dist-packages (from tmtoolkit) (0.1.5)\n",
            "Requirement already satisfied: scipy>=1.3.0 in /usr/local/lib/python3.6/dist-packages (from tmtoolkit) (1.4.1)\n",
            "Requirement already satisfied: germalemma>=0.1.3 in /usr/local/lib/python3.6/dist-packages (from tmtoolkit) (0.1.3)\n",
            "Requirement already satisfied: nltk>=3.4.0 in /usr/local/lib/python3.6/dist-packages (from tmtoolkit) (3.5)\n",
            "Requirement already satisfied: matplotlib>=3.1.0 in /usr/local/lib/python3.6/dist-packages (from tmtoolkit) (3.2.1)\n",
            "Requirement already satisfied: deprecation>=2.0.0 in /usr/local/lib/python3.6/dist-packages (from tmtoolkit) (2.1.0)\n",
            "Requirement already satisfied: xlrd>=1.2.0 in /usr/local/lib/python3.6/dist-packages (from tmtoolkit) (1.2.0)\n",
            "Requirement already satisfied: numpy>=1.17.0 in /usr/local/lib/python3.6/dist-packages (from tmtoolkit) (1.18.2)\n",
            "Requirement already satisfied: pytz>=2017.2 in /usr/local/lib/python3.6/dist-packages (from pandas>=0.25.0->tmtoolkit) (2018.9)\n",
            "Requirement already satisfied: python-dateutil>=2.6.1 in /usr/local/lib/python3.6/dist-packages (from pandas>=0.25.0->tmtoolkit) (2.8.1)\n",
            "Requirement already satisfied: Pyphen>=0.9.5 in /usr/local/lib/python3.6/dist-packages (from germalemma>=0.1.3->tmtoolkit) (0.9.5)\n",
            "Requirement already satisfied: PatternLite>=3.6 in /usr/local/lib/python3.6/dist-packages (from germalemma>=0.1.3->tmtoolkit) (3.6)\n",
            "Requirement already satisfied: regex in /usr/local/lib/python3.6/dist-packages (from nltk>=3.4.0->tmtoolkit) (2019.12.20)\n",
            "Requirement already satisfied: joblib in /usr/local/lib/python3.6/dist-packages (from nltk>=3.4.0->tmtoolkit) (0.14.1)\n",
            "Requirement already satisfied: tqdm in /usr/local/lib/python3.6/dist-packages (from nltk>=3.4.0->tmtoolkit) (4.38.0)\n",
            "Requirement already satisfied: click in /usr/local/lib/python3.6/dist-packages (from nltk>=3.4.0->tmtoolkit) (7.1.1)\n",
            "Requirement already satisfied: pyparsing!=2.0.4,!=2.1.2,!=2.1.6,>=2.0.1 in /usr/local/lib/python3.6/dist-packages (from matplotlib>=3.1.0->tmtoolkit) (2.4.7)\n",
            "Requirement already satisfied: kiwisolver>=1.0.1 in /usr/local/lib/python3.6/dist-packages (from matplotlib>=3.1.0->tmtoolkit) (1.2.0)\n",
            "Requirement already satisfied: cycler>=0.10 in /usr/local/lib/python3.6/dist-packages (from matplotlib>=3.1.0->tmtoolkit) (0.10.0)\n",
            "Requirement already satisfied: packaging in /usr/local/lib/python3.6/dist-packages (from deprecation>=2.0.0->tmtoolkit) (20.3)\n",
            "Requirement already satisfied: six>=1.5 in /usr/local/lib/python3.6/dist-packages (from python-dateutil>=2.6.1->pandas>=0.25.0->tmtoolkit) (1.12.0)\n",
            "[nltk_data] Downloading package stopwords to /root/nltk_data...\n",
            "[nltk_data]   Package stopwords is already up-to-date!\n",
            "[nltk_data] Downloading package punkt to /root/nltk_data...\n",
            "[nltk_data]   Package punkt is already up-to-date!\n",
            "[nltk_data] Downloading package averaged_perceptron_tagger to\n",
            "[nltk_data]     /root/nltk_data...\n",
            "[nltk_data]   Package averaged_perceptron_tagger is already up-to-\n",
            "[nltk_data]       date!\n",
            "[nltk_data] Downloading package wordnet to /root/nltk_data...\n",
            "[nltk_data]   Package wordnet is already up-to-date!\n"
          ],
          "name": "stdout"
        },
        {
          "output_type": "execute_result",
          "data": {
            "text/plain": [
              "True"
            ]
          },
          "metadata": {
            "tags": []
          },
          "execution_count": 32
        }
      ]
    },
    {
      "cell_type": "code",
      "metadata": {
        "id": "Eg8Vh04xfCxc",
        "colab_type": "code",
        "colab": {}
      },
      "source": [
        "import random\n",
        "random.seed(20191122)\n",
        "\n",
        "import pandas as pd\n",
        "import numpy as np\n",
        "np.set_printoptions(precision = 5)\n",
        "\n",
        "from tmtoolkit.corpus import Corpus\n",
        "import codecs"
      ],
      "execution_count": 0,
      "outputs": []
    },
    {
      "cell_type": "code",
      "metadata": {
        "id": "mtiGeMj1eJgi",
        "colab_type": "code",
        "colab": {}
      },
      "source": [
        "#list to string\n",
        "word_counts1 = ' '.join(map(str, word_counts))"
      ],
      "execution_count": 0,
      "outputs": []
    },
    {
      "cell_type": "code",
      "metadata": {
        "id": "pCm9E4HBfESX",
        "colab_type": "code",
        "colab": {}
      },
      "source": [
        "corpus = Corpus()\n",
        "text = 3\n",
        "\n",
        "for i, tweet in enumerate(word_counts1):\n",
        "  corpus.add_doc(str(i), tweet)"
      ],
      "execution_count": 0,
      "outputs": []
    },
    {
      "cell_type": "code",
      "metadata": {
        "id": "aj58bFfNgkBK",
        "colab_type": "code",
        "outputId": "7f913256-af1e-4e95-c3df-f41a73315b71",
        "colab": {
          "base_uri": "https://localhost:8080/",
          "height": 62
        }
      },
      "source": [
        "print(len(corpus))\n",
        "corpus['10']"
      ],
      "execution_count": 0,
      "outputs": [
        {
          "output_type": "stream",
          "text": [
            "5266387\n"
          ],
          "name": "stdout"
        },
        {
          "output_type": "execute_result",
          "data": {
            "text/plain": [
              "'7'"
            ]
          },
          "metadata": {
            "tags": []
          },
          "execution_count": 41
        }
      ]
    },
    {
      "cell_type": "code",
      "metadata": {
        "id": "X0WNPHdjfEFf",
        "colab_type": "code",
        "colab": {}
      },
      "source": [
        "#this will take a while to run\n",
        "\n",
        "from tmtoolkit.preprocess import TMPreproc\n",
        "\n",
        "#create a new structure for data processing (from our corpus)\n",
        "preproc = TMPreproc(corpus)\n",
        "#tags the part of speech for each word\n",
        "#certain parts of speech are going to be more informative than others in topic modeling\n",
        "preproc.pos_tag()\n",
        "#lemmatized text is used to standardize (to the root of the word) (plural, tenses)\n",
        "#stemming is a similar solution here\n",
        "preproc.lemmatize()\n",
        "\n",
        "#lowercase everything to make processing easier\n",
        "preproc.tokens_to_lowercase()\n",
        "\n",
        "#removes any special characters \n",
        "preproc.remove_special_chars_in_tokens()\n",
        "\n",
        "#removes common phrases, etc that we don't want showing up in our topics \n",
        "# preproc.add_stopwords(['http', 'nt', 'corona','virus','coronavirus','covid','covid-19','covid19','disease','death','quarantine'])\n",
        "preproc.add_stopwords(['people', 'death'])"
      ],
      "execution_count": 0,
      "outputs": []
    },
    {
      "cell_type": "code",
      "metadata": {
        "id": "eUx2Ewbvh16j",
        "colab_type": "code",
        "colab": {}
      },
      "source": [
        "# we want this to be fairly small, so more preprocessing.\n",
        "preproc.vocabulary_size"
      ],
      "execution_count": 0,
      "outputs": []
    },
    {
      "cell_type": "code",
      "metadata": {
        "id": "rXs9FLAWio-1",
        "colab_type": "code",
        "colab": {}
      },
      "source": [
        "# filters for nouns only, which are probably going to be more informative for us\n",
        "preproc.filter_for_pos('N','V')"
      ],
      "execution_count": 0,
      "outputs": []
    },
    {
      "cell_type": "code",
      "metadata": {
        "id": "6jm3jHC-i1fN",
        "colab_type": "code",
        "colab": {}
      },
      "source": [
        "# cleans a little further, removes numbers and any words 2 characters or shorter\n",
        "preproc.clean_tokens(remove_numbers =True, remove_shorter_than = 3)"
      ],
      "execution_count": 0,
      "outputs": []
    },
    {
      "cell_type": "code",
      "metadata": {
        "id": "65fEhk6Qi_5N",
        "colab_type": "code",
        "colab": {}
      },
      "source": [
        "#remove super common words (something that shows up in many tweets)\n",
        "#these words probably have a super generic use, or are super common across tweets\n",
        "#the higher the threshold, the fewer tokens that will be included \n",
        "preproc.remove_common_tokens(df_threshold=1)"
      ],
      "execution_count": 0,
      "outputs": []
    },
    {
      "cell_type": "code",
      "metadata": {
        "id": "h_HTyvucjVlB",
        "colab_type": "code",
        "outputId": "41e19375-5969-46e8-8ec6-ed35de8309ac",
        "colab": {
          "base_uri": "https://localhost:8080/",
          "height": 40
        }
      },
      "source": [
        "preproc.vocabulary_size"
      ],
      "execution_count": 0,
      "outputs": [
        {
          "output_type": "execute_result",
          "data": {
            "text/plain": [
              "0"
            ]
          },
          "metadata": {
            "tags": []
          },
          "execution_count": 68
        }
      ]
    },
    {
      "cell_type": "code",
      "metadata": {
        "id": "I_r3aW0mbON7",
        "colab_type": "code",
        "outputId": "8bffeb68-eccb-473f-f900-8764328765e8",
        "colab": {
          "base_uri": "https://localhost:8080/",
          "height": 40
        }
      },
      "source": [
        "preproc.tokens['10']"
      ],
      "execution_count": 0,
      "outputs": [
        {
          "output_type": "execute_result",
          "data": {
            "text/plain": [
              "[]"
            ]
          },
          "metadata": {
            "tags": []
          },
          "execution_count": 69
        }
      ]
    },
    {
      "cell_type": "code",
      "metadata": {
        "id": "vgIimC7QbgT8",
        "colab_type": "code",
        "outputId": "db487317-018a-4a91-b43c-890474680a73",
        "colab": {
          "base_uri": "https://localhost:8080/",
          "height": 468
        }
      },
      "source": [
        "preproc_smaller = preproc.copy()\n",
        "preproc_smaller.filter_for_pos('N')# built filer only looking at Noun\n",
        "preproc_smaller.clean_tokens(remove_numbers=True, remove_shorter_than=2)\n",
        "preproc_smaller.remove_common_tokens(df_threshold=1)#remove commen words\n",
        "#preproc_smaller.remove_uncommon_tokens(df_threshold=0.005)"
      ],
      "execution_count": 0,
      "outputs": [
        {
          "output_type": "error",
          "ename": "KeyboardInterrupt",
          "evalue": "ignored",
          "traceback": [
            "\u001b[0;31m---------------------------------------------------------------------------\u001b[0m",
            "\u001b[0;31mKeyboardInterrupt\u001b[0m                         Traceback (most recent call last)",
            "\u001b[0;32m<ipython-input-23-9c8db12bf483>\u001b[0m in \u001b[0;36m<module>\u001b[0;34m()\u001b[0m\n\u001b[0;32m----> 1\u001b[0;31m \u001b[0mpreproc_smaller\u001b[0m \u001b[0;34m=\u001b[0m \u001b[0mpreproc\u001b[0m\u001b[0;34m.\u001b[0m\u001b[0mcopy\u001b[0m\u001b[0;34m(\u001b[0m\u001b[0;34m)\u001b[0m\u001b[0;34m\u001b[0m\u001b[0;34m\u001b[0m\u001b[0m\n\u001b[0m\u001b[1;32m      2\u001b[0m \u001b[0mpreproc_smaller\u001b[0m\u001b[0;34m.\u001b[0m\u001b[0mfilter_for_pos\u001b[0m\u001b[0;34m(\u001b[0m\u001b[0;34m'N'\u001b[0m\u001b[0;34m)\u001b[0m\u001b[0;31m# built filer only looking at Noun\u001b[0m\u001b[0;34m\u001b[0m\u001b[0;34m\u001b[0m\u001b[0m\n\u001b[1;32m      3\u001b[0m \u001b[0mpreproc_smaller\u001b[0m\u001b[0;34m.\u001b[0m\u001b[0mclean_tokens\u001b[0m\u001b[0;34m(\u001b[0m\u001b[0mremove_numbers\u001b[0m\u001b[0;34m=\u001b[0m\u001b[0;32mTrue\u001b[0m\u001b[0;34m,\u001b[0m \u001b[0mremove_shorter_than\u001b[0m\u001b[0;34m=\u001b[0m\u001b[0;36m2\u001b[0m\u001b[0;34m)\u001b[0m\u001b[0;34m\u001b[0m\u001b[0;34m\u001b[0m\u001b[0m\n\u001b[1;32m      4\u001b[0m \u001b[0mpreproc_smaller\u001b[0m\u001b[0;34m.\u001b[0m\u001b[0mremove_common_tokens\u001b[0m\u001b[0;34m(\u001b[0m\u001b[0mdf_threshold\u001b[0m\u001b[0;34m=\u001b[0m\u001b[0;36m1\u001b[0m\u001b[0;34m)\u001b[0m\u001b[0;31m#remove commen words\u001b[0m\u001b[0;34m\u001b[0m\u001b[0;34m\u001b[0m\u001b[0m\n\u001b[1;32m      5\u001b[0m \u001b[0;31m#preproc_smaller.remove_uncommon_tokens(df_threshold=0.005)\u001b[0m\u001b[0;34m\u001b[0m\u001b[0;34m\u001b[0m\u001b[0;34m\u001b[0m\u001b[0m\n",
            "\u001b[0;32m/usr/local/lib/python3.6/dist-packages/tmtoolkit/preprocess/_tmpreproc.py\u001b[0m in \u001b[0;36mcopy\u001b[0;34m(self)\u001b[0m\n\u001b[1;32m    474\u001b[0m         \u001b[0;34m:\u001b[0m\u001b[0;32mreturn\u001b[0m\u001b[0;34m:\u001b[0m \u001b[0mdeep\u001b[0m \u001b[0mcopy\u001b[0m \u001b[0mof\u001b[0m \u001b[0mthe\u001b[0m \u001b[0mcurrent\u001b[0m \u001b[0mTMPreproc\u001b[0m \u001b[0minstance\u001b[0m\u001b[0;34m\u001b[0m\u001b[0;34m\u001b[0m\u001b[0m\n\u001b[1;32m    475\u001b[0m         \"\"\"\n\u001b[0;32m--> 476\u001b[0;31m         \u001b[0;32mreturn\u001b[0m \u001b[0mTMPreproc\u001b[0m\u001b[0;34m.\u001b[0m\u001b[0mfrom_state\u001b[0m\u001b[0;34m(\u001b[0m\u001b[0mself\u001b[0m\u001b[0;34m.\u001b[0m\u001b[0m_create_state_object\u001b[0m\u001b[0;34m(\u001b[0m\u001b[0mdeepcopy_attrs\u001b[0m\u001b[0;34m=\u001b[0m\u001b[0;32mTrue\u001b[0m\u001b[0;34m)\u001b[0m\u001b[0;34m)\u001b[0m\u001b[0;34m\u001b[0m\u001b[0;34m\u001b[0m\u001b[0m\n\u001b[0m\u001b[1;32m    477\u001b[0m \u001b[0;34m\u001b[0m\u001b[0m\n\u001b[1;32m    478\u001b[0m     \u001b[0;34m@\u001b[0m\u001b[0mclassmethod\u001b[0m\u001b[0;34m\u001b[0m\u001b[0;34m\u001b[0m\u001b[0m\n",
            "\u001b[0;32m/usr/local/lib/python3.6/dist-packages/tmtoolkit/preprocess/_tmpreproc.py\u001b[0m in \u001b[0;36mfrom_state\u001b[0;34m(cls, file_or_stateobj, **init_kwargs)\u001b[0m\n\u001b[1;32m    491\u001b[0m         \u001b[0minit_kwargs\u001b[0m\u001b[0;34m[\u001b[0m\u001b[0;34m'docs'\u001b[0m\u001b[0;34m]\u001b[0m \u001b[0;34m=\u001b[0m \u001b[0;32mNone\u001b[0m\u001b[0;34m\u001b[0m\u001b[0;34m\u001b[0m\u001b[0m\n\u001b[1;32m    492\u001b[0m \u001b[0;34m\u001b[0m\u001b[0m\n\u001b[0;32m--> 493\u001b[0;31m         \u001b[0;32mreturn\u001b[0m \u001b[0mcls\u001b[0m\u001b[0;34m(\u001b[0m\u001b[0;34m**\u001b[0m\u001b[0minit_kwargs\u001b[0m\u001b[0;34m)\u001b[0m\u001b[0;34m.\u001b[0m\u001b[0mload_state\u001b[0m\u001b[0;34m(\u001b[0m\u001b[0mfile_or_stateobj\u001b[0m\u001b[0;34m)\u001b[0m\u001b[0;34m\u001b[0m\u001b[0;34m\u001b[0m\u001b[0m\n\u001b[0m\u001b[1;32m    494\u001b[0m \u001b[0;34m\u001b[0m\u001b[0m\n\u001b[1;32m    495\u001b[0m     \u001b[0;34m@\u001b[0m\u001b[0mclassmethod\u001b[0m\u001b[0;34m\u001b[0m\u001b[0;34m\u001b[0m\u001b[0m\n",
            "\u001b[0;32m/usr/local/lib/python3.6/dist-packages/tmtoolkit/preprocess/_tmpreproc.py\u001b[0m in \u001b[0;36mload_state\u001b[0;34m(self, file_or_stateobj)\u001b[0m\n\u001b[1;32m    375\u001b[0m         \u001b[0;31m# recreate worker processes\u001b[0m\u001b[0;34m\u001b[0m\u001b[0;34m\u001b[0m\u001b[0;34m\u001b[0m\u001b[0m\n\u001b[1;32m    376\u001b[0m         \u001b[0mself\u001b[0m\u001b[0;34m.\u001b[0m\u001b[0mshutdown_workers\u001b[0m\u001b[0;34m(\u001b[0m\u001b[0;34m)\u001b[0m\u001b[0;34m\u001b[0m\u001b[0;34m\u001b[0m\u001b[0m\n\u001b[0;32m--> 377\u001b[0;31m         \u001b[0mself\u001b[0m\u001b[0;34m.\u001b[0m\u001b[0m_setup_workers\u001b[0m\u001b[0;34m(\u001b[0m\u001b[0minitial_states\u001b[0m\u001b[0;34m=\u001b[0m\u001b[0mstate_data\u001b[0m\u001b[0;34m[\u001b[0m\u001b[0;34m'worker_states'\u001b[0m\u001b[0;34m]\u001b[0m\u001b[0;34m)\u001b[0m\u001b[0;34m\u001b[0m\u001b[0;34m\u001b[0m\u001b[0m\n\u001b[0m\u001b[1;32m    378\u001b[0m \u001b[0;34m\u001b[0m\u001b[0m\n\u001b[1;32m    379\u001b[0m         \u001b[0mself\u001b[0m\u001b[0;34m.\u001b[0m\u001b[0m_invalidate_docs_info\u001b[0m\u001b[0;34m(\u001b[0m\u001b[0;34m)\u001b[0m\u001b[0;34m\u001b[0m\u001b[0;34m\u001b[0m\u001b[0m\n",
            "\u001b[0;32m/usr/local/lib/python3.6/dist-packages/tmtoolkit/preprocess/_tmpreproc.py\u001b[0m in \u001b[0;36m_setup_workers\u001b[0;34m(self, docs, initial_states, docs_are_tokenized)\u001b[0m\n\u001b[1;32m   1697\u001b[0m                 \u001b[0mself\u001b[0m\u001b[0;34m.\u001b[0m\u001b[0mtasks_queues\u001b[0m\u001b[0;34m.\u001b[0m\u001b[0mappend\u001b[0m\u001b[0;34m(\u001b[0m\u001b[0mtask_q\u001b[0m\u001b[0;34m)\u001b[0m\u001b[0;34m\u001b[0m\u001b[0;34m\u001b[0m\u001b[0m\n\u001b[1;32m   1698\u001b[0m \u001b[0;34m\u001b[0m\u001b[0m\n\u001b[0;32m-> 1699\u001b[0;31m             \u001b[0;34m[\u001b[0m\u001b[0mq\u001b[0m\u001b[0;34m.\u001b[0m\u001b[0mjoin\u001b[0m\u001b[0;34m(\u001b[0m\u001b[0;34m)\u001b[0m \u001b[0;32mfor\u001b[0m \u001b[0mq\u001b[0m \u001b[0;32min\u001b[0m \u001b[0mself\u001b[0m\u001b[0;34m.\u001b[0m\u001b[0mtasks_queues\u001b[0m\u001b[0;34m]\u001b[0m\u001b[0;34m\u001b[0m\u001b[0;34m\u001b[0m\u001b[0m\n\u001b[0m\u001b[1;32m   1700\u001b[0m \u001b[0;34m\u001b[0m\u001b[0m\n\u001b[1;32m   1701\u001b[0m         \u001b[0;32melse\u001b[0m\u001b[0;34m:\u001b[0m\u001b[0;34m\u001b[0m\u001b[0;34m\u001b[0m\u001b[0m\n",
            "\u001b[0;32m/usr/local/lib/python3.6/dist-packages/tmtoolkit/preprocess/_tmpreproc.py\u001b[0m in \u001b[0;36m<listcomp>\u001b[0;34m(.0)\u001b[0m\n\u001b[1;32m   1697\u001b[0m                 \u001b[0mself\u001b[0m\u001b[0;34m.\u001b[0m\u001b[0mtasks_queues\u001b[0m\u001b[0;34m.\u001b[0m\u001b[0mappend\u001b[0m\u001b[0;34m(\u001b[0m\u001b[0mtask_q\u001b[0m\u001b[0;34m)\u001b[0m\u001b[0;34m\u001b[0m\u001b[0;34m\u001b[0m\u001b[0m\n\u001b[1;32m   1698\u001b[0m \u001b[0;34m\u001b[0m\u001b[0m\n\u001b[0;32m-> 1699\u001b[0;31m             \u001b[0;34m[\u001b[0m\u001b[0mq\u001b[0m\u001b[0;34m.\u001b[0m\u001b[0mjoin\u001b[0m\u001b[0;34m(\u001b[0m\u001b[0;34m)\u001b[0m \u001b[0;32mfor\u001b[0m \u001b[0mq\u001b[0m \u001b[0;32min\u001b[0m \u001b[0mself\u001b[0m\u001b[0;34m.\u001b[0m\u001b[0mtasks_queues\u001b[0m\u001b[0;34m]\u001b[0m\u001b[0;34m\u001b[0m\u001b[0;34m\u001b[0m\u001b[0m\n\u001b[0m\u001b[1;32m   1700\u001b[0m \u001b[0;34m\u001b[0m\u001b[0m\n\u001b[1;32m   1701\u001b[0m         \u001b[0;32melse\u001b[0m\u001b[0;34m:\u001b[0m\u001b[0;34m\u001b[0m\u001b[0;34m\u001b[0m\u001b[0m\n",
            "\u001b[0;32m/usr/lib/python3.6/multiprocessing/queues.py\u001b[0m in \u001b[0;36mjoin\u001b[0;34m(self)\u001b[0m\n\u001b[1;32m    303\u001b[0m         \u001b[0;32mwith\u001b[0m \u001b[0mself\u001b[0m\u001b[0;34m.\u001b[0m\u001b[0m_cond\u001b[0m\u001b[0;34m:\u001b[0m\u001b[0;34m\u001b[0m\u001b[0;34m\u001b[0m\u001b[0m\n\u001b[1;32m    304\u001b[0m             \u001b[0;32mif\u001b[0m \u001b[0;32mnot\u001b[0m \u001b[0mself\u001b[0m\u001b[0;34m.\u001b[0m\u001b[0m_unfinished_tasks\u001b[0m\u001b[0;34m.\u001b[0m\u001b[0m_semlock\u001b[0m\u001b[0;34m.\u001b[0m\u001b[0m_is_zero\u001b[0m\u001b[0;34m(\u001b[0m\u001b[0;34m)\u001b[0m\u001b[0;34m:\u001b[0m\u001b[0;34m\u001b[0m\u001b[0;34m\u001b[0m\u001b[0m\n\u001b[0;32m--> 305\u001b[0;31m                 \u001b[0mself\u001b[0m\u001b[0;34m.\u001b[0m\u001b[0m_cond\u001b[0m\u001b[0;34m.\u001b[0m\u001b[0mwait\u001b[0m\u001b[0;34m(\u001b[0m\u001b[0;34m)\u001b[0m\u001b[0;34m\u001b[0m\u001b[0;34m\u001b[0m\u001b[0m\n\u001b[0m\u001b[1;32m    306\u001b[0m \u001b[0;34m\u001b[0m\u001b[0m\n\u001b[1;32m    307\u001b[0m \u001b[0;31m#\u001b[0m\u001b[0;34m\u001b[0m\u001b[0;34m\u001b[0m\u001b[0;34m\u001b[0m\u001b[0m\n",
            "\u001b[0;32m/usr/lib/python3.6/multiprocessing/synchronize.py\u001b[0m in \u001b[0;36mwait\u001b[0;34m(self, timeout)\u001b[0m\n\u001b[1;32m    259\u001b[0m         \u001b[0;32mtry\u001b[0m\u001b[0;34m:\u001b[0m\u001b[0;34m\u001b[0m\u001b[0;34m\u001b[0m\u001b[0m\n\u001b[1;32m    260\u001b[0m             \u001b[0;31m# wait for notification or timeout\u001b[0m\u001b[0;34m\u001b[0m\u001b[0;34m\u001b[0m\u001b[0;34m\u001b[0m\u001b[0m\n\u001b[0;32m--> 261\u001b[0;31m             \u001b[0;32mreturn\u001b[0m \u001b[0mself\u001b[0m\u001b[0;34m.\u001b[0m\u001b[0m_wait_semaphore\u001b[0m\u001b[0;34m.\u001b[0m\u001b[0macquire\u001b[0m\u001b[0;34m(\u001b[0m\u001b[0;32mTrue\u001b[0m\u001b[0;34m,\u001b[0m \u001b[0mtimeout\u001b[0m\u001b[0;34m)\u001b[0m\u001b[0;34m\u001b[0m\u001b[0;34m\u001b[0m\u001b[0m\n\u001b[0m\u001b[1;32m    262\u001b[0m         \u001b[0;32mfinally\u001b[0m\u001b[0;34m:\u001b[0m\u001b[0;34m\u001b[0m\u001b[0;34m\u001b[0m\u001b[0m\n\u001b[1;32m    263\u001b[0m             \u001b[0;31m# indicate that this thread has woken\u001b[0m\u001b[0;34m\u001b[0m\u001b[0;34m\u001b[0m\u001b[0;34m\u001b[0m\u001b[0m\n",
            "\u001b[0;31mKeyboardInterrupt\u001b[0m: "
          ]
        }
      ]
    },
    {
      "cell_type": "code",
      "metadata": {
        "id": "VfkF3UZ5iyCY",
        "colab_type": "code",
        "colab": {}
      },
      "source": [
        "#compare each cleansing, smaller is better. So we used smaller for the following analysis\n",
        "print(preproc.tokens['100'])\n",
        "print(preproc_smaller.tokens['100'])\n",
        "print(preproc.tokens['1'])\n",
        "print(preproc_smaller.tokens['1'])\n",
        "print(preproc.tokens['2000'])\n",
        "print(preproc_smaller.tokens['2000'])"
      ],
      "execution_count": 0,
      "outputs": []
    },
    {
      "cell_type": "code",
      "metadata": {
        "id": "82mpBP0_bhy0",
        "colab_type": "code",
        "colab": {}
      },
      "source": [
        "print(preproc.vocabulary_size)\n",
        "print(preproc_smaller.vocabulary_size)"
      ],
      "execution_count": 0,
      "outputs": []
    },
    {
      "cell_type": "code",
      "metadata": {
        "id": "4WYQx2E2jhfv",
        "colab_type": "code",
        "colab": {}
      },
      "source": [
        "import numpy as np"
      ],
      "execution_count": 0,
      "outputs": []
    },
    {
      "cell_type": "code",
      "metadata": {
        "id": "7algbzXTpUSQ",
        "colab_type": "code",
        "colab": {}
      },
      "source": [
        "doc_labels = np.array(preproc.doc_labels)"
      ],
      "execution_count": 0,
      "outputs": []
    },
    {
      "cell_type": "code",
      "metadata": {
        "id": "iZSKeSbEpVwC",
        "colab_type": "code",
        "colab": {}
      },
      "source": [
        "vocab = np.array(preproc.vocabulary)"
      ],
      "execution_count": 0,
      "outputs": []
    },
    {
      "cell_type": "code",
      "metadata": {
        "id": "3HA-S9jopabL",
        "colab_type": "code",
        "colab": {}
      },
      "source": [
        "dtm = preproc.dtm\n"
      ],
      "execution_count": 0,
      "outputs": []
    },
    {
      "cell_type": "code",
      "metadata": {
        "id": "geQxGGvcpfol",
        "colab_type": "code",
        "outputId": "3069d571-591c-4c59-f18a-0130794ec9b8",
        "colab": {
          "base_uri": "https://localhost:8080/",
          "height": 568
        }
      },
      "source": [
        "!pip install tmtoolkit['lda']\n",
        "import logging\n",
        "import warnings\n",
        "from tmtoolkit.topicmod.tm_lda import compute_models_parallel\n",
        "\n",
        "# suppress the \"INFO\" messages and warnings from lda\n",
        "logger = logging.getLogger('lda')\n",
        "logger.addHandler(logging.NullHandler())\n",
        "logger.propagate = False\n",
        "\n",
        "warnings.filterwarnings('ignore')\n",
        "\n",
        "# set data to use \n",
        "dtms = {\n",
        "    'data': dtm\n",
        "}\n",
        "\n",
        "# and fixed hyperparameters\n",
        "lda_params = {\n",
        "     # always starts with a complete guess, this can be tweaked later\n",
        "    'n_topics': 10,\n",
        "    #beta parameter: a way to think of the granularity on a topic\n",
        "    #the higher, the less granular, the lower, the more.\n",
        "    #if topics are too vague, lower beta param.\n",
        "    'eta': .0001, \n",
        "    'n_iter': 1000,\n",
        "    'random_state': 20191122 # to make results reporducable \n",
        "}\n",
        "\n",
        "models = compute_models_parallel(dtms, constant_parameters = lda_params)"
      ],
      "execution_count": 0,
      "outputs": [
        {
          "output_type": "stream",
          "text": [
            "Requirement already satisfied: tmtoolkit[lda] in /usr/local/lib/python3.6/dist-packages (0.9.0)\n",
            "Requirement already satisfied: matplotlib>=3.1.0 in /usr/local/lib/python3.6/dist-packages (from tmtoolkit[lda]) (3.2.1)\n",
            "Requirement already satisfied: germalemma>=0.1.3 in /usr/local/lib/python3.6/dist-packages (from tmtoolkit[lda]) (0.1.3)\n",
            "Requirement already satisfied: globre>=0.1.5 in /usr/local/lib/python3.6/dist-packages (from tmtoolkit[lda]) (0.1.5)\n",
            "Requirement already satisfied: nltk>=3.4.0 in /usr/local/lib/python3.6/dist-packages (from tmtoolkit[lda]) (3.5)\n",
            "Requirement already satisfied: deprecation>=2.0.0 in /usr/local/lib/python3.6/dist-packages (from tmtoolkit[lda]) (2.1.0)\n",
            "Requirement already satisfied: scipy>=1.3.0 in /usr/local/lib/python3.6/dist-packages (from tmtoolkit[lda]) (1.4.1)\n",
            "Requirement already satisfied: pandas>=0.25.0 in /usr/local/lib/python3.6/dist-packages (from tmtoolkit[lda]) (1.0.3)\n",
            "Requirement already satisfied: numpy>=1.17.0 in /usr/local/lib/python3.6/dist-packages (from tmtoolkit[lda]) (1.18.2)\n",
            "Requirement already satisfied: xlrd>=1.2.0 in /usr/local/lib/python3.6/dist-packages (from tmtoolkit[lda]) (1.2.0)\n",
            "Requirement already satisfied: lda>=1.1.0; extra == \"lda\" in /usr/local/lib/python3.6/dist-packages (from tmtoolkit[lda]) (1.1.0)\n",
            "Requirement already satisfied: pyparsing!=2.0.4,!=2.1.2,!=2.1.6,>=2.0.1 in /usr/local/lib/python3.6/dist-packages (from matplotlib>=3.1.0->tmtoolkit[lda]) (2.4.7)\n",
            "Requirement already satisfied: python-dateutil>=2.1 in /usr/local/lib/python3.6/dist-packages (from matplotlib>=3.1.0->tmtoolkit[lda]) (2.8.1)\n",
            "Requirement already satisfied: cycler>=0.10 in /usr/local/lib/python3.6/dist-packages (from matplotlib>=3.1.0->tmtoolkit[lda]) (0.10.0)\n",
            "Requirement already satisfied: kiwisolver>=1.0.1 in /usr/local/lib/python3.6/dist-packages (from matplotlib>=3.1.0->tmtoolkit[lda]) (1.2.0)\n",
            "Requirement already satisfied: Pyphen>=0.9.5 in /usr/local/lib/python3.6/dist-packages (from germalemma>=0.1.3->tmtoolkit[lda]) (0.9.5)\n",
            "Requirement already satisfied: PatternLite>=3.6 in /usr/local/lib/python3.6/dist-packages (from germalemma>=0.1.3->tmtoolkit[lda]) (3.6)\n",
            "Requirement already satisfied: joblib in /usr/local/lib/python3.6/dist-packages (from nltk>=3.4.0->tmtoolkit[lda]) (0.14.1)\n",
            "Requirement already satisfied: click in /usr/local/lib/python3.6/dist-packages (from nltk>=3.4.0->tmtoolkit[lda]) (7.1.1)\n",
            "Requirement already satisfied: regex in /usr/local/lib/python3.6/dist-packages (from nltk>=3.4.0->tmtoolkit[lda]) (2019.12.20)\n",
            "Requirement already satisfied: tqdm in /usr/local/lib/python3.6/dist-packages (from nltk>=3.4.0->tmtoolkit[lda]) (4.38.0)\n",
            "Requirement already satisfied: packaging in /usr/local/lib/python3.6/dist-packages (from deprecation>=2.0.0->tmtoolkit[lda]) (20.3)\n",
            "Requirement already satisfied: pytz>=2017.2 in /usr/local/lib/python3.6/dist-packages (from pandas>=0.25.0->tmtoolkit[lda]) (2018.9)\n",
            "Requirement already satisfied: pbr<4,>=0.6 in /usr/local/lib/python3.6/dist-packages (from lda>=1.1.0; extra == \"lda\"->tmtoolkit[lda]) (3.1.1)\n",
            "Requirement already satisfied: six>=1.5 in /usr/local/lib/python3.6/dist-packages (from python-dateutil>=2.1->matplotlib>=3.1.0->tmtoolkit[lda]) (1.12.0)\n"
          ],
          "name": "stdout"
        }
      ]
    },
    {
      "cell_type": "code",
      "metadata": {
        "id": "0HmeRxncTtNo",
        "colab_type": "code",
        "outputId": "5ec14f71-cf34-46b0-c80d-d29a9cfbcbb9",
        "colab": {
          "base_uri": "https://localhost:8080/",
          "height": 164
        }
      },
      "source": [
        "models.head()"
      ],
      "execution_count": 0,
      "outputs": [
        {
          "output_type": "error",
          "ename": "NameError",
          "evalue": "ignored",
          "traceback": [
            "\u001b[0;31m---------------------------------------------------------------------------\u001b[0m",
            "\u001b[0;31mNameError\u001b[0m                                 Traceback (most recent call last)",
            "\u001b[0;32m<ipython-input-2-b38a2a437f5b>\u001b[0m in \u001b[0;36m<module>\u001b[0;34m()\u001b[0m\n\u001b[0;32m----> 1\u001b[0;31m \u001b[0mmodels\u001b[0m\u001b[0;34m.\u001b[0m\u001b[0mhead\u001b[0m\u001b[0;34m(\u001b[0m\u001b[0;34m)\u001b[0m\u001b[0;34m\u001b[0m\u001b[0;34m\u001b[0m\u001b[0m\n\u001b[0m",
            "\u001b[0;31mNameError\u001b[0m: name 'models' is not defined"
          ]
        }
      ]
    },
    {
      "cell_type": "code",
      "metadata": {
        "id": "XRVjoPIXpu54",
        "colab_type": "code",
        "outputId": "4608720e-6e7f-41a5-b611-7077493afe5d",
        "colab": {
          "base_uri": "https://localhost:8080/",
          "height": 290
        }
      },
      "source": [
        "from tmtoolkit.topicmod.model_io import print_ldamodel_topic_words\n",
        "\n",
        "# pulling the smaller set of topics out of the models dictionary\n",
        "# then pulling out the words\n",
        "model_sm = models['smaller'][0][1]\n",
        "\n",
        "# printing the model\n",
        "print_ldamodel_topic_words(model_sm.topic_word_, vocab_sm, top_n = 5)"
      ],
      "execution_count": 0,
      "outputs": [
        {
          "output_type": "error",
          "ename": "IndexError",
          "evalue": "ignored",
          "traceback": [
            "\u001b[0;31m---------------------------------------------------------------------------\u001b[0m",
            "\u001b[0;31mIndexError\u001b[0m                                Traceback (most recent call last)",
            "\u001b[0;32m<ipython-input-38-09a9e28fe647>\u001b[0m in \u001b[0;36m<module>\u001b[0;34m()\u001b[0m\n\u001b[1;32m      3\u001b[0m \u001b[0;31m# pulling the smaller set of topics out of the models dictionary\u001b[0m\u001b[0;34m\u001b[0m\u001b[0;34m\u001b[0m\u001b[0;34m\u001b[0m\u001b[0m\n\u001b[1;32m      4\u001b[0m \u001b[0;31m# then pulling out the words\u001b[0m\u001b[0;34m\u001b[0m\u001b[0;34m\u001b[0m\u001b[0;34m\u001b[0m\u001b[0m\n\u001b[0;32m----> 5\u001b[0;31m \u001b[0mmodel_sm\u001b[0m \u001b[0;34m=\u001b[0m \u001b[0mmodels\u001b[0m\u001b[0;34m[\u001b[0m\u001b[0;34m'smaller'\u001b[0m\u001b[0;34m]\u001b[0m\u001b[0;34m[\u001b[0m\u001b[0;36m0\u001b[0m\u001b[0;34m]\u001b[0m\u001b[0;34m[\u001b[0m\u001b[0;36m1\u001b[0m\u001b[0;34m]\u001b[0m\u001b[0;34m\u001b[0m\u001b[0;34m\u001b[0m\u001b[0m\n\u001b[0m\u001b[1;32m      6\u001b[0m \u001b[0;34m\u001b[0m\u001b[0m\n\u001b[1;32m      7\u001b[0m \u001b[0;31m# printing the model\u001b[0m\u001b[0;34m\u001b[0m\u001b[0;34m\u001b[0m\u001b[0;34m\u001b[0m\u001b[0m\n",
            "\u001b[0;31mIndexError\u001b[0m: list index out of range"
          ]
        }
      ]
    },
    {
      "cell_type": "markdown",
      "metadata": {
        "id": "fQL6I506TSyG",
        "colab_type": "text"
      },
      "source": [
        "### Trying to use spark \n",
        "\n"
      ]
    },
    {
      "cell_type": "code",
      "metadata": {
        "id": "uACZQPpEHe4j",
        "colab_type": "code",
        "outputId": "16b976d5-1507-4905-de18-0fbad049cddf",
        "colab": {
          "base_uri": "https://localhost:8080/",
          "height": 354
        }
      },
      "source": [
        ""
      ],
      "execution_count": 0,
      "outputs": [
        {
          "output_type": "error",
          "ename": "ModuleNotFoundError",
          "evalue": "ignored",
          "traceback": [
            "\u001b[0;31m---------------------------------------------------------------------------\u001b[0m",
            "\u001b[0;31mModuleNotFoundError\u001b[0m                       Traceback (most recent call last)",
            "\u001b[0;32m<ipython-input-1-bddfb823a864>\u001b[0m in \u001b[0;36m<module>\u001b[0;34m()\u001b[0m\n\u001b[0;32m----> 1\u001b[0;31m \u001b[0;32mimport\u001b[0m \u001b[0mpixiedust\u001b[0m\u001b[0;34m\u001b[0m\u001b[0;34m\u001b[0m\u001b[0m\n\u001b[0m\u001b[1;32m      2\u001b[0m \u001b[0mjarPath\u001b[0m \u001b[0;34m=\u001b[0m \u001b[0;34m\"https://github.com/ibm-cds-labs/spark.samples/raw/master/dist/streaming-twitter-assembly-1.6.jar\"\u001b[0m\u001b[0;34m\u001b[0m\u001b[0;34m\u001b[0m\u001b[0m\n\u001b[1;32m      3\u001b[0m \u001b[0mpixiedust\u001b[0m\u001b[0;34m.\u001b[0m\u001b[0minstallPackage\u001b[0m\u001b[0;34m(\u001b[0m\u001b[0mjarPath\u001b[0m\u001b[0;34m)\u001b[0m\u001b[0;34m\u001b[0m\u001b[0;34m\u001b[0m\u001b[0m\n",
            "\u001b[0;31mModuleNotFoundError\u001b[0m: No module named 'pixiedust'",
            "",
            "\u001b[0;31m---------------------------------------------------------------------------\u001b[0;32m\nNOTE: If your import is failing due to a missing package, you can\nmanually install dependencies using either !pip or !apt.\n\nTo view examples of installing some common dependencies, click the\n\"Open Examples\" button below.\n\u001b[0;31m---------------------------------------------------------------------------\u001b[0m\n"
          ]
        }
      ]
    },
    {
      "cell_type": "code",
      "metadata": {
        "id": "HiedXWkCTY6H",
        "colab_type": "code",
        "colab": {}
      },
      "source": [
        ""
      ],
      "execution_count": 0,
      "outputs": []
    }
  ]
}