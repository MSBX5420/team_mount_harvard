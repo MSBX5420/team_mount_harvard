{
  "nbformat": 4,
  "nbformat_minor": 0,
  "metadata": {
    "colab": {
      "name": "Corona_tweets.ipynb",
      "provenance": [],
      "machine_shape": "hm"
    },
    "kernelspec": {
      "name": "python3",
      "display_name": "Python 3"
    }
  },
  "cells": [
    {
      "cell_type": "markdown",
      "metadata": {
        "id": "ro4hCGRXrDfO",
        "colab_type": "text"
      },
      "source": [
        "From Kaggle: This dataset contains the Tweets of users who have applied the following hashtags: #coronavirus, #coronavirusoutbreak, #coronavirusPandemic, #covid19, #covid_19\n",
        "\n",
        "From about 17 March, the dataset also included the following additional hashtags: #epitwitter, #ihavecorona\n"
      ]
    },
    {
      "cell_type": "markdown",
      "metadata": {
        "id": "IgiDUZg3tP8v",
        "colab_type": "text"
      },
      "source": [
        "# Data Dictionary"
      ]
    },
    {
      "cell_type": "markdown",
      "metadata": {
        "id": "Ok4ANf07tSl8",
        "colab_type": "text"
      },
      "source": [
        "\n",
        "**status_id**: The ID of the actual Tweet.  \n",
        "**user_id**: The ID of the user account that Tweeted.  \n",
        "**created_at**: The date and time of the Tweet.  \n",
        "**screen_name**: The screen name of the account that Tweeted.  \n",
        "**text**: The text of the Tweet.  \n",
        "**source**: The type of app used.  \n",
        "**reply_to_status_id**: The ID of the Tweet to which this was a reply.  \n",
        "**reply_to_user_id**: The ID of the user to whom this Tweet was a reply.  \n",
        "**reply_to_screen_name**: The screen name of the user to whom this Tweet was a reply.  \n",
        "**is_quote**: Whether this Tweet is a quote of another Tweet.  \n",
        "**is_retweet**: Whether this Tweet is a retweet.  \n",
        "**favourites_count**: The number of favourites this Tweet has received.  \n",
        "**retweet_count**: The number of times this Tweet has been retweeted.  \n",
        "**country_code**: The country code of the account that Tweeted.  \n",
        "**place_full_name**: The name of the place of the account that Tweeted.  \n",
        "**place_type**: A description of the type of place corresponding with place_full_name.  \n",
        "**followers_count**: The number of followers of the account that Tweeted.  \n",
        "**friends_count**: The number of friends of the account that Tweeted.  \n",
        "**account_lang**: The language of the account that Tweeted.  \n",
        "**account_created_at**: The date and time that the account that Tweeted was created.  \n",
        "**verified**: Whether the account that Tweeted is verified.  \n",
        "**lang**: The language of the Tweet.  "
      ]
    },
    {
      "cell_type": "markdown",
      "metadata": {
        "id": "HwVatVjTs0k6",
        "colab_type": "text"
      },
      "source": [
        "# Data Exploration + Cleanup"
      ]
    },
    {
      "cell_type": "code",
      "metadata": {
        "id": "xoA3ETYHo0tO",
        "colab_type": "code",
        "colab": {}
      },
      "source": [
        "from time import sleep\n",
        "import csv\n",
        "\n",
        "import pandas as pd\n",
        "import numpy as np \n",
        "import pandas as pd\n",
        "import seaborn as sns\n",
        "import glob\n",
        "import json\n",
        "import matplotlib.pyplot as plt"
      ],
      "execution_count": 0,
      "outputs": []
    },
    {
      "cell_type": "code",
      "metadata": {
        "id": "wv3s1K4polO_",
        "colab_type": "code",
        "colab": {}
      },
      "source": [
        "path = '/content/drive/My Drive/Unstructured Project/corona_tweets304.CSV'\n",
        "corona_tweets = pd.read_csv(path)"
      ],
      "execution_count": 0,
      "outputs": []
    },
    {
      "cell_type": "code",
      "metadata": {
        "id": "UWGiJlVOpHW_",
        "colab_type": "code",
        "outputId": "8d4e994e-7175-47fa-f318-f30d44435c32",
        "colab": {
          "base_uri": "https://localhost:8080/",
          "height": 377
        }
      },
      "source": [
        "corona_tweets.head()"
      ],
      "execution_count": 0,
      "outputs": [
        {
          "output_type": "execute_result",
          "data": {
            "text/html": [
              "<div>\n",
              "<style scoped>\n",
              "    .dataframe tbody tr th:only-of-type {\n",
              "        vertical-align: middle;\n",
              "    }\n",
              "\n",
              "    .dataframe tbody tr th {\n",
              "        vertical-align: top;\n",
              "    }\n",
              "\n",
              "    .dataframe thead th {\n",
              "        text-align: right;\n",
              "    }\n",
              "</style>\n",
              "<table border=\"1\" class=\"dataframe\">\n",
              "  <thead>\n",
              "    <tr style=\"text-align: right;\">\n",
              "      <th></th>\n",
              "      <th>status_id</th>\n",
              "      <th>user_id</th>\n",
              "      <th>created_at</th>\n",
              "      <th>screen_name</th>\n",
              "      <th>text</th>\n",
              "      <th>source</th>\n",
              "      <th>reply_to_status_id</th>\n",
              "      <th>reply_to_user_id</th>\n",
              "      <th>reply_to_screen_name</th>\n",
              "      <th>is_quote</th>\n",
              "      <th>is_retweet</th>\n",
              "      <th>favourites_count</th>\n",
              "      <th>retweet_count</th>\n",
              "      <th>country_code</th>\n",
              "      <th>place_full_name</th>\n",
              "      <th>place_type</th>\n",
              "      <th>followers_count</th>\n",
              "      <th>friends_count</th>\n",
              "      <th>account_lang</th>\n",
              "      <th>account_created_at</th>\n",
              "      <th>verified</th>\n",
              "      <th>lang</th>\n",
              "    </tr>\n",
              "  </thead>\n",
              "  <tbody>\n",
              "    <tr>\n",
              "      <th>0</th>\n",
              "      <td>1235160526780416001</td>\n",
              "      <td>1163436067904618496</td>\n",
              "      <td>2020-03-04T11:09:52Z</td>\n",
              "      <td>Nanank08000089</td>\n",
              "      <td>#CoronaVirusIndonesia \\n#CoronaBukaBorokRezim ...</td>\n",
              "      <td>Twitter for Android</td>\n",
              "      <td>NaN</td>\n",
              "      <td>NaN</td>\n",
              "      <td>NaN</td>\n",
              "      <td>False</td>\n",
              "      <td>False</td>\n",
              "      <td>797</td>\n",
              "      <td>0</td>\n",
              "      <td>NaN</td>\n",
              "      <td>NaN</td>\n",
              "      <td>NaN</td>\n",
              "      <td>21</td>\n",
              "      <td>142</td>\n",
              "      <td>NaN</td>\n",
              "      <td>2019-08-19T13:02:45Z</td>\n",
              "      <td>False</td>\n",
              "      <td>und</td>\n",
              "    </tr>\n",
              "    <tr>\n",
              "      <th>1</th>\n",
              "      <td>1235160526780416001</td>\n",
              "      <td>1163436067904618496</td>\n",
              "      <td>2020-03-04T11:09:52Z</td>\n",
              "      <td>Nanank08000089</td>\n",
              "      <td>#CoronaVirusIndonesia \\n#CoronaBukaBorokRezim ...</td>\n",
              "      <td>Twitter for Android</td>\n",
              "      <td>NaN</td>\n",
              "      <td>NaN</td>\n",
              "      <td>NaN</td>\n",
              "      <td>False</td>\n",
              "      <td>False</td>\n",
              "      <td>797</td>\n",
              "      <td>0</td>\n",
              "      <td>NaN</td>\n",
              "      <td>NaN</td>\n",
              "      <td>NaN</td>\n",
              "      <td>21</td>\n",
              "      <td>142</td>\n",
              "      <td>NaN</td>\n",
              "      <td>2019-08-19T13:02:45Z</td>\n",
              "      <td>False</td>\n",
              "      <td>und</td>\n",
              "    </tr>\n",
              "    <tr>\n",
              "      <th>2</th>\n",
              "      <td>1235160546451873797</td>\n",
              "      <td>2255210942</td>\n",
              "      <td>2020-03-04T11:09:57Z</td>\n",
              "      <td>David_Mulroney</td>\n",
              "      <td>China’s wildlife trade via @SCMPgraphics  http...</td>\n",
              "      <td>Twitter for iPad</td>\n",
              "      <td>NaN</td>\n",
              "      <td>NaN</td>\n",
              "      <td>NaN</td>\n",
              "      <td>False</td>\n",
              "      <td>False</td>\n",
              "      <td>1697</td>\n",
              "      <td>2</td>\n",
              "      <td>NaN</td>\n",
              "      <td>NaN</td>\n",
              "      <td>NaN</td>\n",
              "      <td>5666</td>\n",
              "      <td>2796</td>\n",
              "      <td>NaN</td>\n",
              "      <td>2013-12-20T16:14:18Z</td>\n",
              "      <td>False</td>\n",
              "      <td>en</td>\n",
              "    </tr>\n",
              "    <tr>\n",
              "      <th>3</th>\n",
              "      <td>1235160597475602432</td>\n",
              "      <td>366491737</td>\n",
              "      <td>2020-03-04T11:10:09Z</td>\n",
              "      <td>MarykeSchoonen</td>\n",
              "      <td>Proof that the media such as @CNN is unnecessa...</td>\n",
              "      <td>Twitter for iPhone</td>\n",
              "      <td>NaN</td>\n",
              "      <td>NaN</td>\n",
              "      <td>NaN</td>\n",
              "      <td>False</td>\n",
              "      <td>False</td>\n",
              "      <td>833</td>\n",
              "      <td>0</td>\n",
              "      <td>NaN</td>\n",
              "      <td>NaN</td>\n",
              "      <td>NaN</td>\n",
              "      <td>41</td>\n",
              "      <td>94</td>\n",
              "      <td>NaN</td>\n",
              "      <td>2011-09-02T08:22:14Z</td>\n",
              "      <td>False</td>\n",
              "      <td>en</td>\n",
              "    </tr>\n",
              "    <tr>\n",
              "      <th>4</th>\n",
              "      <td>1235160647614291968</td>\n",
              "      <td>61557732</td>\n",
              "      <td>2020-03-04T11:10:21Z</td>\n",
              "      <td>Arjit_Garg</td>\n",
              "      <td>Indians are a shitty breed of humans. With the...</td>\n",
              "      <td>Twitter for Android</td>\n",
              "      <td>NaN</td>\n",
              "      <td>NaN</td>\n",
              "      <td>NaN</td>\n",
              "      <td>False</td>\n",
              "      <td>False</td>\n",
              "      <td>1921</td>\n",
              "      <td>0</td>\n",
              "      <td>IN</td>\n",
              "      <td>Greater Noida, India</td>\n",
              "      <td>city</td>\n",
              "      <td>486</td>\n",
              "      <td>50</td>\n",
              "      <td>NaN</td>\n",
              "      <td>2009-07-30T18:18:25Z</td>\n",
              "      <td>False</td>\n",
              "      <td>en</td>\n",
              "    </tr>\n",
              "  </tbody>\n",
              "</table>\n",
              "</div>"
            ],
            "text/plain": [
              "             status_id              user_id  ... verified lang\n",
              "0  1235160526780416001  1163436067904618496  ...    False  und\n",
              "1  1235160526780416001  1163436067904618496  ...    False  und\n",
              "2  1235160546451873797           2255210942  ...    False   en\n",
              "3  1235160597475602432            366491737  ...    False   en\n",
              "4  1235160647614291968             61557732  ...    False   en\n",
              "\n",
              "[5 rows x 22 columns]"
            ]
          },
          "metadata": {
            "tags": []
          },
          "execution_count": 3
        }
      ]
    },
    {
      "cell_type": "code",
      "metadata": {
        "id": "2Azb-k51p6up",
        "colab_type": "code",
        "outputId": "b1c36be1-24f6-452d-c523-85565011045e",
        "colab": {
          "base_uri": "https://localhost:8080/",
          "height": 34
        }
      },
      "source": [
        "corona_tweets.shape"
      ],
      "execution_count": 0,
      "outputs": [
        {
          "output_type": "execute_result",
          "data": {
            "text/plain": [
              "(526791, 22)"
            ]
          },
          "metadata": {
            "tags": []
          },
          "execution_count": 5
        }
      ]
    },
    {
      "cell_type": "code",
      "metadata": {
        "id": "kM-eXr7mvLZr",
        "colab_type": "code",
        "outputId": "2ad7452e-ba3d-4d50-9bf6-a7ce364c4859",
        "colab": {
          "base_uri": "https://localhost:8080/",
          "height": 34
        }
      },
      "source": [
        "print(len(corona_tweets['created_at'].unique()))\n"
      ],
      "execution_count": 0,
      "outputs": [
        {
          "output_type": "stream",
          "text": [
            "234131\n"
          ],
          "name": "stdout"
        }
      ]
    },
    {
      "cell_type": "code",
      "metadata": {
        "id": "idNCjeMYqLuB",
        "colab_type": "code",
        "outputId": "add0145e-9a39-4931-c8bf-d83fa7386ba1",
        "colab": {
          "base_uri": "https://localhost:8080/",
          "height": 187
        }
      },
      "source": [
        "print(len(corona_tweets['screen_name'].unique()))\n",
        "print(len(corona_tweets['source'].unique()))\n",
        "print(len(corona_tweets['reply_to_status_id'].unique()))\n",
        "print(len(corona_tweets['reply_to_user_id'].unique()))\n",
        "print(len(corona_tweets['reply_to_screen_name'].unique()))\n",
        "print(len(corona_tweets['country_code'].unique()))\n",
        "print(len(corona_tweets['place_full_name'].unique()))\n",
        "print(len(corona_tweets['place_type'].unique()))\n",
        "print(len(corona_tweets['account_lang'].unique()))\n",
        "print(len(corona_tweets['lang'].unique()))"
      ],
      "execution_count": 0,
      "outputs": [
        {
          "output_type": "stream",
          "text": [
            "269581\n",
            "789\n",
            "64325\n",
            "42156\n",
            "42166\n",
            "170\n",
            "6132\n",
            "6\n",
            "1\n",
            "63\n"
          ],
          "name": "stdout"
        }
      ]
    },
    {
      "cell_type": "code",
      "metadata": {
        "id": "ccCClgCcyqUz",
        "colab_type": "code",
        "outputId": "b3f6cfd0-9ba9-43fe-e670-2a7ec175bb0c",
        "colab": {
          "base_uri": "https://localhost:8080/",
          "height": 119
        }
      },
      "source": [
        "#we'll have to pull out en tweets only\n",
        "\n",
        "corona_tweets['lang'].unique()"
      ],
      "execution_count": 0,
      "outputs": [
        {
          "output_type": "execute_result",
          "data": {
            "text/plain": [
              "array(['und', 'en', 'es', 'fr', 'in', 'ur', 'or', 'hi', 'pl', 'ja', 'et',\n",
              "       'lt', 'gu', 'kn', 'ta', 'zh', 'ht', 'it', 'fi', 'fa', 'ca', 'mr',\n",
              "       'da', 'tl', 'te', 'el', 'tr', 'ar', 'ru', 'pt', 'bn', 'nl', 'lv',\n",
              "       'th', 'uk', 'ro', 'de', 'ps', 'ko', 'sv', 'vi', 'si', 'sl', 'ne',\n",
              "       'cs', 'ml', 'hu', 'pa', 'sd', 'is', 'ckb', 'iw', 'cy', 'no', 'dv',\n",
              "       'eu', 'hy', 'am', 'bg', 'sr', 'km', 'lo', 'ka'], dtype=object)"
            ]
          },
          "metadata": {
            "tags": []
          },
          "execution_count": 19
        }
      ]
    },
    {
      "cell_type": "code",
      "metadata": {
        "id": "socgZc-fq60-",
        "colab_type": "code",
        "colab": {}
      },
      "source": [
        "corona_tweets = corona_tweets.drop(['account_lang'], axis=1)"
      ],
      "execution_count": 0,
      "outputs": []
    },
    {
      "cell_type": "code",
      "metadata": {
        "id": "y9kA7dOZ5cG8",
        "colab_type": "code",
        "colab": {}
      },
      "source": [
        ""
      ],
      "execution_count": 0,
      "outputs": []
    },
    {
      "cell_type": "code",
      "metadata": {
        "id": "-Q88ayHKdhgt",
        "colab_type": "code",
        "colab": {}
      },
      "source": [
        ""
      ],
      "execution_count": 0,
      "outputs": []
    },
    {
      "cell_type": "code",
      "metadata": {
        "id": "zxc7EhbSdh6v",
        "colab_type": "code",
        "colab": {}
      },
      "source": [
        ""
      ],
      "execution_count": 0,
      "outputs": []
    },
    {
      "cell_type": "code",
      "metadata": {
        "id": "QeEHKHxYdkm3",
        "colab_type": "code",
        "outputId": "82f23930-2c29-441a-f47d-23597e0cfa4a",
        "colab": {
          "base_uri": "https://localhost:8080/",
          "height": 122
        }
      },
      "source": [
        "from google.colab import drive\n",
        "drive.mount('/content/drive')"
      ],
      "execution_count": 0,
      "outputs": [
        {
          "output_type": "stream",
          "text": [
            "Go to this URL in a browser: https://accounts.google.com/o/oauth2/auth?client_id=947318989803-6bn6qk8qdgf4n4g3pfee6491hc0brc4i.apps.googleusercontent.com&redirect_uri=urn%3aietf%3awg%3aoauth%3a2.0%3aoob&response_type=code&scope=email%20https%3a%2f%2fwww.googleapis.com%2fauth%2fdocs.test%20https%3a%2f%2fwww.googleapis.com%2fauth%2fdrive%20https%3a%2f%2fwww.googleapis.com%2fauth%2fdrive.photos.readonly%20https%3a%2f%2fwww.googleapis.com%2fauth%2fpeopleapi.readonly\n",
            "\n",
            "Enter your authorization code:\n",
            "··········\n",
            "Mounted at /content/drive\n"
          ],
          "name": "stdout"
        }
      ]
    },
    {
      "cell_type": "markdown",
      "metadata": {
        "id": "LZg_0xCRyoRq",
        "colab_type": "text"
      },
      "source": [
        "Code To Get Data Combined. You don't need to run this!! I just wanted you to see the process and know that it was sound!\n"
      ]
    },
    {
      "cell_type": "code",
      "metadata": {
        "id": "IhrBQyILdywY",
        "colab_type": "code",
        "colab": {}
      },
      "source": [
        "premarch = '/content/drive/My Drive/Unstructured Project/coronavirus-covid19-tweets/2020-03-00 Coronavirus Tweets (pre 2020-03-12).CSV'\n",
        "pre_march = pd.read_csv(premarch)"
      ],
      "execution_count": 0,
      "outputs": []
    },
    {
      "cell_type": "code",
      "metadata": {
        "id": "omscP4LSge2h",
        "colab_type": "code",
        "colab": {}
      },
      "source": [
        "marchonetwo = '/content/drive/My Drive/Unstructured Project/coronavirus-covid19-tweets/2020-03-12 Coronavirus Tweets.CSV'\n",
        "marchone_two = pd.read_csv(marchonetwo)"
      ],
      "execution_count": 0,
      "outputs": []
    },
    {
      "cell_type": "code",
      "metadata": {
        "id": "r75-2-xygupr",
        "colab_type": "code",
        "colab": {}
      },
      "source": [
        "marchonethree = '/content/drive/My Drive/Unstructured Project/coronavirus-covid19-tweets/2020-03-13 Coronavirus Tweets.CSV'\n",
        "marchone_three = pd.read_csv(marchonethree)"
      ],
      "execution_count": 0,
      "outputs": []
    },
    {
      "cell_type": "code",
      "metadata": {
        "id": "kMBR6j4hhTyq",
        "colab_type": "code",
        "colab": {}
      },
      "source": [
        "marchonefour = '/content/drive/My Drive/Unstructured Project/coronavirus-covid19-tweets/2020-03-14 Coronavirus Tweets.CSV'\n",
        "marchone_four = pd.read_csv(marchonefour)"
      ],
      "execution_count": 0,
      "outputs": []
    },
    {
      "cell_type": "code",
      "metadata": {
        "id": "AZmCNob5dzCl",
        "colab_type": "code",
        "colab": {}
      },
      "source": [
        "marchonefive = '/content/drive/My Drive/Unstructured Project/coronavirus-covid19-tweets/2020-03-15 Coronavirus Tweets.CSV'\n",
        "marchone_five = pd.read_csv(marchonefive)"
      ],
      "execution_count": 0,
      "outputs": []
    },
    {
      "cell_type": "code",
      "metadata": {
        "id": "_81blOA7haWH",
        "colab_type": "code",
        "colab": {}
      },
      "source": [
        "marchonesix = '/content/drive/My Drive/Unstructured Project/coronavirus-covid19-tweets/2020-03-16 Coronavirus Tweets.CSV'\n",
        "marchone_six = pd.read_csv(marchonesix)"
      ],
      "execution_count": 0,
      "outputs": []
    },
    {
      "cell_type": "code",
      "metadata": {
        "id": "Ir7KAjSIhfJ6",
        "colab_type": "code",
        "colab": {}
      },
      "source": [
        "marchoneseven = '/content/drive/My Drive/Unstructured Project/coronavirus-covid19-tweets/2020-03-17 Coronavirus Tweets.CSV'\n",
        "marchone_seven = pd.read_csv(marchoneseven)"
      ],
      "execution_count": 0,
      "outputs": []
    },
    {
      "cell_type": "code",
      "metadata": {
        "id": "M1KEiFn1hkCr",
        "colab_type": "code",
        "colab": {}
      },
      "source": [
        "marchoneeight = '/content/drive/My Drive/Unstructured Project/coronavirus-covid19-tweets/2020-03-18 Coronavirus Tweets.CSV'\n",
        "marchone_eight= pd.read_csv(marchoneeight)"
      ],
      "execution_count": 0,
      "outputs": []
    },
    {
      "cell_type": "code",
      "metadata": {
        "id": "YKO7jX8Vh-Vc",
        "colab_type": "code",
        "colab": {}
      },
      "source": [
        "marchonenine = '/content/drive/My Drive/Unstructured Project/coronavirus-covid19-tweets/2020-03-19 Coronavirus Tweets.CSV'\n",
        "marchone_nine = pd.read_csv(marchonenine)"
      ],
      "execution_count": 0,
      "outputs": []
    },
    {
      "cell_type": "code",
      "metadata": {
        "id": "SQif9kuViJac",
        "colab_type": "code",
        "colab": {}
      },
      "source": [
        "marchtwozero= '/content/drive/My Drive/Unstructured Project/coronavirus-covid19-tweets/2020-03-20 Coronavirus Tweets.CSV'\n",
        "marchtwo_zero = pd.read_csv(marchtwozero)"
      ],
      "execution_count": 0,
      "outputs": []
    },
    {
      "cell_type": "code",
      "metadata": {
        "id": "ptx6hiEdiT-H",
        "colab_type": "code",
        "colab": {}
      },
      "source": [
        "marchtwoone= '/content/drive/My Drive/Unstructured Project/coronavirus-covid19-tweets/2020-03-21 Coronavirus Tweets.CSV'\n",
        "marchtwo_one = pd.read_csv(marchtwoone)"
      ],
      "execution_count": 0,
      "outputs": []
    },
    {
      "cell_type": "code",
      "metadata": {
        "id": "erV958ijiY_P",
        "colab_type": "code",
        "colab": {}
      },
      "source": [
        "marchtwotwo= '/content/drive/My Drive/Unstructured Project/coronavirus-covid19-tweets/2020-03-22 Coronavirus Tweets.CSV'\n",
        "marchtwo_two = pd.read_csv(marchtwotwo)"
      ],
      "execution_count": 0,
      "outputs": []
    },
    {
      "cell_type": "code",
      "metadata": {
        "id": "S4-Z3JW1gSrh",
        "colab_type": "code",
        "colab": {}
      },
      "source": [
        "marchtwothree = '/content/drive/My Drive/Unstructured Project/coronavirus-covid19-tweets/2020-03-23 Coronavirus Tweets.CSV'\n",
        "marchtwo_three = pd.read_csv(marchtwothree)"
      ],
      "execution_count": 0,
      "outputs": []
    },
    {
      "cell_type": "code",
      "metadata": {
        "id": "zF42Y5WafJyZ",
        "colab_type": "code",
        "colab": {}
      },
      "source": [
        "marchtwofour = '/content/drive/My Drive/Unstructured Project/coronavirus-covid19-tweets/2020-03-24 Coronavirus Tweets.CSV'\n",
        "marchtwo_four = pd.read_csv(marchtwofour)"
      ],
      "execution_count": 0,
      "outputs": []
    },
    {
      "cell_type": "code",
      "metadata": {
        "id": "gSF2IBMkieRP",
        "colab_type": "code",
        "colab": {}
      },
      "source": [
        "marchtwofive= '/content/drive/My Drive/Unstructured Project/coronavirus-covid19-tweets/2020-03-25 Coronavirus Tweets.CSV'\n",
        "marchtwo_five = pd.read_csv(marchtwofive)"
      ],
      "execution_count": 0,
      "outputs": []
    },
    {
      "cell_type": "code",
      "metadata": {
        "id": "wGEi02U9ja61",
        "colab_type": "code",
        "colab": {}
      },
      "source": [
        "marchtwosix= '/content/drive/My Drive/Unstructured Project/coronavirus-covid19-tweets/2020-03-26 Coronavirus Tweets.CSV'\n",
        "marchtwo_six = pd.read_csv(marchtwosix)"
      ],
      "execution_count": 0,
      "outputs": []
    },
    {
      "cell_type": "code",
      "metadata": {
        "id": "6iS_XEBsjf2Z",
        "colab_type": "code",
        "colab": {}
      },
      "source": [
        "marchtwoseven= '/content/drive/My Drive/Unstructured Project/coronavirus-covid19-tweets/2020-03-27 Coronavirus Tweets.CSV'\n",
        "marchtwo_seven = pd.read_csv(marchtwoseven)"
      ],
      "execution_count": 0,
      "outputs": []
    },
    {
      "cell_type": "code",
      "metadata": {
        "id": "a5Y1JVSbjnC-",
        "colab_type": "code",
        "colab": {}
      },
      "source": [
        "marchtwoeight= '/content/drive/My Drive/Unstructured Project/coronavirus-covid19-tweets/2020-03-28 Coronavirus Tweets.CSV'\n",
        "marchtwo_eight = pd.read_csv(marchtwoeight)"
      ],
      "execution_count": 0,
      "outputs": []
    },
    {
      "cell_type": "code",
      "metadata": {
        "id": "9FHxRvL6fatx",
        "colab_type": "code",
        "colab": {}
      },
      "source": [
        "marchtwonine = '/content/drive/My Drive/Unstructured Project/coronavirus-covid19-tweets/2020-03-29 Coronavirus Tweets.CSV'\n",
        "marchtwo_nine = pd.read_csv(marchtwonine)"
      ],
      "execution_count": 0,
      "outputs": []
    },
    {
      "cell_type": "code",
      "metadata": {
        "id": "NQFb9R1JfsIM",
        "colab_type": "code",
        "colab": {}
      },
      "source": [
        "marchthreezero = '/content/drive/My Drive/Unstructured Project/coronavirus-covid19-tweets/2020-03-30 Coronavirus Tweets.CSV'\n",
        "marchthree_zero = pd.read_csv(marchthreezero)"
      ],
      "execution_count": 0,
      "outputs": []
    },
    {
      "cell_type": "code",
      "metadata": {
        "id": "piTfSMdZf6w_",
        "colab_type": "code",
        "colab": {}
      },
      "source": [
        "marchthreeone = '/content/drive/My Drive/Unstructured Project/coronavirus-covid19-tweets/2020-03-31 Coronavirus Tweets.CSV'\n",
        "marchthree_one = pd.read_csv(marchthreeone)"
      ],
      "execution_count": 0,
      "outputs": []
    },
    {
      "cell_type": "code",
      "metadata": {
        "id": "xbamoovvgJxv",
        "colab_type": "code",
        "colab": {}
      },
      "source": [
        "aprone = '/content/drive/My Drive/Unstructured Project/coronavirus-covid19-tweets/2020-04-01 Coronavirus Tweets.CSV'\n",
        "apr_one = pd.read_csv(aprone)"
      ],
      "execution_count": 0,
      "outputs": []
    },
    {
      "cell_type": "code",
      "metadata": {
        "id": "7JHVn4uPj514",
        "colab_type": "code",
        "colab": {}
      },
      "source": [
        "#combined all the data from all the days\n",
        "corona_tweet = pd.concat([pre_march,marchone_two,marchone_three,marchone_four,marchone_five,marchone_six,marchone_seven,marchone_eight,marchone_nine,marchtwo_zero,marchtwo_one,marchtwo_two,marchtwo_three,marchtwo_four,marchtwo_five,marchtwo_six,marchtwo_seven,marchtwo_eight,marchtwo_nine,marchthree_zero,marchthree_one,apr_one])"
      ],
      "execution_count": 0,
      "outputs": []
    },
    {
      "cell_type": "code",
      "metadata": {
        "id": "TNAmVRuHuSnE",
        "colab_type": "code",
        "colab": {}
      },
      "source": [
        "#write to csv so my teammates won't have to run above everytime\n",
        "corona_tweet.to_csv('combined_COVIDtweet.csv')"
      ],
      "execution_count": 0,
      "outputs": []
    },
    {
      "cell_type": "code",
      "metadata": {
        "id": "S3KkGPzGwHzL",
        "colab_type": "code",
        "colab": {}
      },
      "source": [
        ""
      ],
      "execution_count": 0,
      "outputs": []
    },
    {
      "cell_type": "code",
      "metadata": {
        "id": "MkgJpmpLvgfw",
        "colab_type": "code",
        "outputId": "a7b2d0a8-1c1e-4a7c-83b2-299224d3b1c0",
        "colab": {
          "base_uri": "https://localhost:8080/",
          "height": 71
        }
      },
      "source": [
        "tweet_corona = '/content/drive/My Drive/Unstructured Project/combined_COVIDtweet.csv'\n",
        "tweet_corona = pd.read_csv(tweet_corona)"
      ],
      "execution_count": 0,
      "outputs": [
        {
          "output_type": "stream",
          "text": [
            "/usr/local/lib/python3.6/dist-packages/IPython/core/interactiveshell.py:2718: DtypeWarning: Columns (0,1,3,4,5,6,9,10,11,14,15,16,17,20,21,22) have mixed types.Specify dtype option on import or set low_memory=False.\n",
            "  interactivity=interactivity, compiler=compiler, result=result)\n"
          ],
          "name": "stderr"
        }
      ]
    },
    {
      "cell_type": "code",
      "metadata": {
        "id": "3UFL_atPjF9c",
        "colab_type": "code",
        "outputId": "9bb81952-8220-4e28-f620-0dba244b8075",
        "colab": {
          "base_uri": "https://localhost:8080/",
          "height": 394
        }
      },
      "source": [
        "tweet_corona.head()"
      ],
      "execution_count": 0,
      "outputs": [
        {
          "output_type": "execute_result",
          "data": {
            "text/html": [
              "<div>\n",
              "<style scoped>\n",
              "    .dataframe tbody tr th:only-of-type {\n",
              "        vertical-align: middle;\n",
              "    }\n",
              "\n",
              "    .dataframe tbody tr th {\n",
              "        vertical-align: top;\n",
              "    }\n",
              "\n",
              "    .dataframe thead th {\n",
              "        text-align: right;\n",
              "    }\n",
              "</style>\n",
              "<table border=\"1\" class=\"dataframe\">\n",
              "  <thead>\n",
              "    <tr style=\"text-align: right;\">\n",
              "      <th></th>\n",
              "      <th>Unnamed: 0</th>\n",
              "      <th>status_id</th>\n",
              "      <th>user_id</th>\n",
              "      <th>created_at</th>\n",
              "      <th>screen_name</th>\n",
              "      <th>text</th>\n",
              "      <th>source</th>\n",
              "      <th>reply_to_status_id</th>\n",
              "      <th>reply_to_user_id</th>\n",
              "      <th>reply_to_screen_name</th>\n",
              "      <th>is_quote</th>\n",
              "      <th>is_retweet</th>\n",
              "      <th>favourites_count</th>\n",
              "      <th>retweet_count</th>\n",
              "      <th>country_code</th>\n",
              "      <th>place_full_name</th>\n",
              "      <th>place_type</th>\n",
              "      <th>followers_count</th>\n",
              "      <th>friends_count</th>\n",
              "      <th>account_lang</th>\n",
              "      <th>account_created_at</th>\n",
              "      <th>verified</th>\n",
              "      <th>lang</th>\n",
              "    </tr>\n",
              "  </thead>\n",
              "  <tbody>\n",
              "    <tr>\n",
              "      <th>0</th>\n",
              "      <td>0</td>\n",
              "      <td>1235160526780416001</td>\n",
              "      <td>1.163436e+18</td>\n",
              "      <td>2020-03-04T11:09:52Z</td>\n",
              "      <td>Nanank08000089</td>\n",
              "      <td>#CoronaVirusIndonesia \\n#CoronaBukaBorokRezim ...</td>\n",
              "      <td>Twitter for Android</td>\n",
              "      <td>NaN</td>\n",
              "      <td>NaN</td>\n",
              "      <td>NaN</td>\n",
              "      <td>False</td>\n",
              "      <td>False</td>\n",
              "      <td>797.0</td>\n",
              "      <td>0.0</td>\n",
              "      <td>NaN</td>\n",
              "      <td>NaN</td>\n",
              "      <td>NaN</td>\n",
              "      <td>21</td>\n",
              "      <td>142.0</td>\n",
              "      <td>NaN</td>\n",
              "      <td>2019-08-19T13:02:45Z</td>\n",
              "      <td>False</td>\n",
              "      <td>und</td>\n",
              "    </tr>\n",
              "    <tr>\n",
              "      <th>1</th>\n",
              "      <td>1</td>\n",
              "      <td>1235160526780416001</td>\n",
              "      <td>1.163436e+18</td>\n",
              "      <td>2020-03-04T11:09:52Z</td>\n",
              "      <td>Nanank08000089</td>\n",
              "      <td>#CoronaVirusIndonesia \\n#CoronaBukaBorokRezim ...</td>\n",
              "      <td>Twitter for Android</td>\n",
              "      <td>NaN</td>\n",
              "      <td>NaN</td>\n",
              "      <td>NaN</td>\n",
              "      <td>False</td>\n",
              "      <td>False</td>\n",
              "      <td>797.0</td>\n",
              "      <td>0.0</td>\n",
              "      <td>NaN</td>\n",
              "      <td>NaN</td>\n",
              "      <td>NaN</td>\n",
              "      <td>21</td>\n",
              "      <td>142.0</td>\n",
              "      <td>NaN</td>\n",
              "      <td>2019-08-19T13:02:45Z</td>\n",
              "      <td>False</td>\n",
              "      <td>und</td>\n",
              "    </tr>\n",
              "    <tr>\n",
              "      <th>2</th>\n",
              "      <td>2</td>\n",
              "      <td>1235160546451873797</td>\n",
              "      <td>2.255211e+09</td>\n",
              "      <td>2020-03-04T11:09:57Z</td>\n",
              "      <td>David_Mulroney</td>\n",
              "      <td>China’s wildlife trade via @SCMPgraphics  http...</td>\n",
              "      <td>Twitter for iPad</td>\n",
              "      <td>NaN</td>\n",
              "      <td>NaN</td>\n",
              "      <td>NaN</td>\n",
              "      <td>False</td>\n",
              "      <td>False</td>\n",
              "      <td>1697.0</td>\n",
              "      <td>2.0</td>\n",
              "      <td>NaN</td>\n",
              "      <td>NaN</td>\n",
              "      <td>NaN</td>\n",
              "      <td>5666</td>\n",
              "      <td>2796.0</td>\n",
              "      <td>NaN</td>\n",
              "      <td>2013-12-20T16:14:18Z</td>\n",
              "      <td>False</td>\n",
              "      <td>en</td>\n",
              "    </tr>\n",
              "    <tr>\n",
              "      <th>3</th>\n",
              "      <td>3</td>\n",
              "      <td>1235160597475602432</td>\n",
              "      <td>3.664917e+08</td>\n",
              "      <td>2020-03-04T11:10:09Z</td>\n",
              "      <td>MarykeSchoonen</td>\n",
              "      <td>Proof that the media such as @CNN is unnecessa...</td>\n",
              "      <td>Twitter for iPhone</td>\n",
              "      <td>NaN</td>\n",
              "      <td>NaN</td>\n",
              "      <td>NaN</td>\n",
              "      <td>False</td>\n",
              "      <td>False</td>\n",
              "      <td>833.0</td>\n",
              "      <td>0.0</td>\n",
              "      <td>NaN</td>\n",
              "      <td>NaN</td>\n",
              "      <td>NaN</td>\n",
              "      <td>41</td>\n",
              "      <td>94.0</td>\n",
              "      <td>NaN</td>\n",
              "      <td>2011-09-02T08:22:14Z</td>\n",
              "      <td>False</td>\n",
              "      <td>en</td>\n",
              "    </tr>\n",
              "    <tr>\n",
              "      <th>4</th>\n",
              "      <td>4</td>\n",
              "      <td>1235160647614291968</td>\n",
              "      <td>6.155773e+07</td>\n",
              "      <td>2020-03-04T11:10:21Z</td>\n",
              "      <td>Arjit_Garg</td>\n",
              "      <td>Indians are a shitty breed of humans. With the...</td>\n",
              "      <td>Twitter for Android</td>\n",
              "      <td>NaN</td>\n",
              "      <td>NaN</td>\n",
              "      <td>NaN</td>\n",
              "      <td>False</td>\n",
              "      <td>False</td>\n",
              "      <td>1921.0</td>\n",
              "      <td>0.0</td>\n",
              "      <td>IN</td>\n",
              "      <td>Greater Noida, India</td>\n",
              "      <td>city</td>\n",
              "      <td>486</td>\n",
              "      <td>50.0</td>\n",
              "      <td>NaN</td>\n",
              "      <td>2009-07-30T18:18:25Z</td>\n",
              "      <td>False</td>\n",
              "      <td>en</td>\n",
              "    </tr>\n",
              "  </tbody>\n",
              "</table>\n",
              "</div>"
            ],
            "text/plain": [
              "  Unnamed: 0            status_id  ...  verified lang\n",
              "0          0  1235160526780416001  ...     False  und\n",
              "1          1  1235160526780416001  ...     False  und\n",
              "2          2  1235160546451873797  ...     False   en\n",
              "3          3  1235160597475602432  ...     False   en\n",
              "4          4  1235160647614291968  ...     False   en\n",
              "\n",
              "[5 rows x 23 columns]"
            ]
          },
          "metadata": {
            "tags": []
          },
          "execution_count": 21
        }
      ]
    },
    {
      "cell_type": "code",
      "metadata": {
        "id": "oThiBjQUkUjH",
        "colab_type": "code",
        "outputId": "5c349bfa-75bd-40f9-d519-0f041ccd6e2a",
        "colab": {
          "base_uri": "https://localhost:8080/",
          "height": 327
        }
      },
      "source": [
        ""
      ],
      "execution_count": 0,
      "outputs": [
        {
          "output_type": "error",
          "ename": "KeyError",
          "evalue": "ignored",
          "traceback": [
            "\u001b[0;31m---------------------------------------------------------------------------\u001b[0m",
            "\u001b[0;31mKeyError\u001b[0m                                  Traceback (most recent call last)",
            "\u001b[0;32m<ipython-input-26-059d95cb4abe>\u001b[0m in \u001b[0;36m<module>\u001b[0;34m()\u001b[0m\n\u001b[0;32m----> 1\u001b[0;31m \u001b[0mtweet_corona\u001b[0m\u001b[0;34m=\u001b[0m \u001b[0mtweet_corona\u001b[0m\u001b[0;34m.\u001b[0m\u001b[0mdrop\u001b[0m\u001b[0;34m(\u001b[0m\u001b[0;34m[\u001b[0m\u001b[0;36m0\u001b[0m\u001b[0;34m,\u001b[0m\u001b[0;36m1\u001b[0m\u001b[0;34m]\u001b[0m\u001b[0;34m,\u001b[0m\u001b[0maxis\u001b[0m\u001b[0;34m=\u001b[0m\u001b[0;36m1\u001b[0m\u001b[0;34m)\u001b[0m\u001b[0;34m\u001b[0m\u001b[0;34m\u001b[0m\u001b[0m\n\u001b[0m",
            "\u001b[0;32m/usr/local/lib/python3.6/dist-packages/pandas/core/frame.py\u001b[0m in \u001b[0;36mdrop\u001b[0;34m(self, labels, axis, index, columns, level, inplace, errors)\u001b[0m\n\u001b[1;32m   3995\u001b[0m             \u001b[0mlevel\u001b[0m\u001b[0;34m=\u001b[0m\u001b[0mlevel\u001b[0m\u001b[0;34m,\u001b[0m\u001b[0;34m\u001b[0m\u001b[0;34m\u001b[0m\u001b[0m\n\u001b[1;32m   3996\u001b[0m             \u001b[0minplace\u001b[0m\u001b[0;34m=\u001b[0m\u001b[0minplace\u001b[0m\u001b[0;34m,\u001b[0m\u001b[0;34m\u001b[0m\u001b[0;34m\u001b[0m\u001b[0m\n\u001b[0;32m-> 3997\u001b[0;31m             \u001b[0merrors\u001b[0m\u001b[0;34m=\u001b[0m\u001b[0merrors\u001b[0m\u001b[0;34m,\u001b[0m\u001b[0;34m\u001b[0m\u001b[0;34m\u001b[0m\u001b[0m\n\u001b[0m\u001b[1;32m   3998\u001b[0m         )\n\u001b[1;32m   3999\u001b[0m \u001b[0;34m\u001b[0m\u001b[0m\n",
            "\u001b[0;32m/usr/local/lib/python3.6/dist-packages/pandas/core/generic.py\u001b[0m in \u001b[0;36mdrop\u001b[0;34m(self, labels, axis, index, columns, level, inplace, errors)\u001b[0m\n\u001b[1;32m   3934\u001b[0m         \u001b[0;32mfor\u001b[0m \u001b[0maxis\u001b[0m\u001b[0;34m,\u001b[0m \u001b[0mlabels\u001b[0m \u001b[0;32min\u001b[0m \u001b[0maxes\u001b[0m\u001b[0;34m.\u001b[0m\u001b[0mitems\u001b[0m\u001b[0;34m(\u001b[0m\u001b[0;34m)\u001b[0m\u001b[0;34m:\u001b[0m\u001b[0;34m\u001b[0m\u001b[0;34m\u001b[0m\u001b[0m\n\u001b[1;32m   3935\u001b[0m             \u001b[0;32mif\u001b[0m \u001b[0mlabels\u001b[0m \u001b[0;32mis\u001b[0m \u001b[0;32mnot\u001b[0m \u001b[0;32mNone\u001b[0m\u001b[0;34m:\u001b[0m\u001b[0;34m\u001b[0m\u001b[0;34m\u001b[0m\u001b[0m\n\u001b[0;32m-> 3936\u001b[0;31m                 \u001b[0mobj\u001b[0m \u001b[0;34m=\u001b[0m \u001b[0mobj\u001b[0m\u001b[0;34m.\u001b[0m\u001b[0m_drop_axis\u001b[0m\u001b[0;34m(\u001b[0m\u001b[0mlabels\u001b[0m\u001b[0;34m,\u001b[0m \u001b[0maxis\u001b[0m\u001b[0;34m,\u001b[0m \u001b[0mlevel\u001b[0m\u001b[0;34m=\u001b[0m\u001b[0mlevel\u001b[0m\u001b[0;34m,\u001b[0m \u001b[0merrors\u001b[0m\u001b[0;34m=\u001b[0m\u001b[0merrors\u001b[0m\u001b[0;34m)\u001b[0m\u001b[0;34m\u001b[0m\u001b[0;34m\u001b[0m\u001b[0m\n\u001b[0m\u001b[1;32m   3937\u001b[0m \u001b[0;34m\u001b[0m\u001b[0m\n\u001b[1;32m   3938\u001b[0m         \u001b[0;32mif\u001b[0m \u001b[0minplace\u001b[0m\u001b[0;34m:\u001b[0m\u001b[0;34m\u001b[0m\u001b[0;34m\u001b[0m\u001b[0m\n",
            "\u001b[0;32m/usr/local/lib/python3.6/dist-packages/pandas/core/generic.py\u001b[0m in \u001b[0;36m_drop_axis\u001b[0;34m(self, labels, axis, level, errors)\u001b[0m\n\u001b[1;32m   3968\u001b[0m                 \u001b[0mnew_axis\u001b[0m \u001b[0;34m=\u001b[0m \u001b[0maxis\u001b[0m\u001b[0;34m.\u001b[0m\u001b[0mdrop\u001b[0m\u001b[0;34m(\u001b[0m\u001b[0mlabels\u001b[0m\u001b[0;34m,\u001b[0m \u001b[0mlevel\u001b[0m\u001b[0;34m=\u001b[0m\u001b[0mlevel\u001b[0m\u001b[0;34m,\u001b[0m \u001b[0merrors\u001b[0m\u001b[0;34m=\u001b[0m\u001b[0merrors\u001b[0m\u001b[0;34m)\u001b[0m\u001b[0;34m\u001b[0m\u001b[0;34m\u001b[0m\u001b[0m\n\u001b[1;32m   3969\u001b[0m             \u001b[0;32melse\u001b[0m\u001b[0;34m:\u001b[0m\u001b[0;34m\u001b[0m\u001b[0;34m\u001b[0m\u001b[0m\n\u001b[0;32m-> 3970\u001b[0;31m                 \u001b[0mnew_axis\u001b[0m \u001b[0;34m=\u001b[0m \u001b[0maxis\u001b[0m\u001b[0;34m.\u001b[0m\u001b[0mdrop\u001b[0m\u001b[0;34m(\u001b[0m\u001b[0mlabels\u001b[0m\u001b[0;34m,\u001b[0m \u001b[0merrors\u001b[0m\u001b[0;34m=\u001b[0m\u001b[0merrors\u001b[0m\u001b[0;34m)\u001b[0m\u001b[0;34m\u001b[0m\u001b[0;34m\u001b[0m\u001b[0m\n\u001b[0m\u001b[1;32m   3971\u001b[0m             \u001b[0mresult\u001b[0m \u001b[0;34m=\u001b[0m \u001b[0mself\u001b[0m\u001b[0;34m.\u001b[0m\u001b[0mreindex\u001b[0m\u001b[0;34m(\u001b[0m\u001b[0;34m**\u001b[0m\u001b[0;34m{\u001b[0m\u001b[0maxis_name\u001b[0m\u001b[0;34m:\u001b[0m \u001b[0mnew_axis\u001b[0m\u001b[0;34m}\u001b[0m\u001b[0;34m)\u001b[0m\u001b[0;34m\u001b[0m\u001b[0;34m\u001b[0m\u001b[0m\n\u001b[1;32m   3972\u001b[0m \u001b[0;34m\u001b[0m\u001b[0m\n",
            "\u001b[0;32m/usr/local/lib/python3.6/dist-packages/pandas/core/indexes/base.py\u001b[0m in \u001b[0;36mdrop\u001b[0;34m(self, labels, errors)\u001b[0m\n\u001b[1;32m   5015\u001b[0m         \u001b[0;32mif\u001b[0m \u001b[0mmask\u001b[0m\u001b[0;34m.\u001b[0m\u001b[0many\u001b[0m\u001b[0;34m(\u001b[0m\u001b[0;34m)\u001b[0m\u001b[0;34m:\u001b[0m\u001b[0;34m\u001b[0m\u001b[0;34m\u001b[0m\u001b[0m\n\u001b[1;32m   5016\u001b[0m             \u001b[0;32mif\u001b[0m \u001b[0merrors\u001b[0m \u001b[0;34m!=\u001b[0m \u001b[0;34m\"ignore\"\u001b[0m\u001b[0;34m:\u001b[0m\u001b[0;34m\u001b[0m\u001b[0;34m\u001b[0m\u001b[0m\n\u001b[0;32m-> 5017\u001b[0;31m                 \u001b[0;32mraise\u001b[0m \u001b[0mKeyError\u001b[0m\u001b[0;34m(\u001b[0m\u001b[0;34mf\"{labels[mask]} not found in axis\"\u001b[0m\u001b[0;34m)\u001b[0m\u001b[0;34m\u001b[0m\u001b[0;34m\u001b[0m\u001b[0m\n\u001b[0m\u001b[1;32m   5018\u001b[0m             \u001b[0mindexer\u001b[0m \u001b[0;34m=\u001b[0m \u001b[0mindexer\u001b[0m\u001b[0;34m[\u001b[0m\u001b[0;34m~\u001b[0m\u001b[0mmask\u001b[0m\u001b[0;34m]\u001b[0m\u001b[0;34m\u001b[0m\u001b[0;34m\u001b[0m\u001b[0m\n\u001b[1;32m   5019\u001b[0m         \u001b[0;32mreturn\u001b[0m \u001b[0mself\u001b[0m\u001b[0;34m.\u001b[0m\u001b[0mdelete\u001b[0m\u001b[0;34m(\u001b[0m\u001b[0mindexer\u001b[0m\u001b[0;34m)\u001b[0m\u001b[0;34m\u001b[0m\u001b[0;34m\u001b[0m\u001b[0m\n",
            "\u001b[0;31mKeyError\u001b[0m: '[0 1] not found in axis'"
          ]
        }
      ]
    },
    {
      "cell_type": "code",
      "metadata": {
        "id": "STqywbch16K-",
        "colab_type": "code",
        "outputId": "5315aa43-1fbb-4a1d-a321-b105424b1a3a",
        "colab": {
          "base_uri": "https://localhost:8080/",
          "height": 34
        }
      },
      "source": [
        "tweet_corona.shape"
      ],
      "execution_count": 0,
      "outputs": [
        {
          "output_type": "execute_result",
          "data": {
            "text/plain": [
              "(18918246, 23)"
            ]
          },
          "metadata": {
            "tags": []
          },
          "execution_count": 9
        }
      ]
    },
    {
      "cell_type": "code",
      "metadata": {
        "id": "KqF_frGNrc_e",
        "colab_type": "code",
        "outputId": "0dfc0bb5-7db3-4687-9f8b-15dd90e6a8d1",
        "colab": {
          "base_uri": "https://localhost:8080/",
          "height": 164
        }
      },
      "source": [
        "tweet_corona = tweet_corona[tweet_corona['lang']=='en']"
      ],
      "execution_count": 0,
      "outputs": [
        {
          "output_type": "error",
          "ename": "NameError",
          "evalue": "ignored",
          "traceback": [
            "\u001b[0;31m---------------------------------------------------------------------------\u001b[0m",
            "\u001b[0;31mNameError\u001b[0m                                 Traceback (most recent call last)",
            "\u001b[0;32m<ipython-input-1-4af97aa56900>\u001b[0m in \u001b[0;36m<module>\u001b[0;34m()\u001b[0m\n\u001b[0;32m----> 1\u001b[0;31m \u001b[0mtweet_corona\u001b[0m \u001b[0;34m=\u001b[0m \u001b[0mtweet_corona\u001b[0m\u001b[0;34m[\u001b[0m\u001b[0mtweet_corona\u001b[0m\u001b[0;34m[\u001b[0m\u001b[0;34m'lang'\u001b[0m\u001b[0;34m]\u001b[0m\u001b[0;34m==\u001b[0m\u001b[0;34m'en'\u001b[0m\u001b[0;34m]\u001b[0m\u001b[0;34m\u001b[0m\u001b[0;34m\u001b[0m\u001b[0m\n\u001b[0m",
            "\u001b[0;31mNameError\u001b[0m: name 'tweet_corona' is not defined"
          ]
        }
      ]
    }
  ]
}