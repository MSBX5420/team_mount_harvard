{
 "cells": [
  {
   "cell_type": "code",
   "execution_count": 25,
   "metadata": {},
   "outputs": [],
   "source": [
    "import findspark\n",
    "findspark.init()\n",
    "import pandas as pd\n",
    "import pyspark as ps\n",
    "import warnings\n",
    "from pyspark.sql import SQLContext\n",
    "from pyspark import SparkContext\n",
    "from pyspark.sql.functions import udf, col\n",
    "from pyspark.sql.types import StringType, IntegerType, FloatType, DoubleType, StructType, StructField\n",
    "import csv\n",
    "from pyspark.ml.feature import HashingTF, IDF, Tokenizer, CountVectorizer\n",
    "from pyspark.ml.feature import StringIndexer\n",
    "from pyspark.ml import Pipeline\n",
    "from pyspark.ml.classification import LogisticRegression\n",
    "from pyspark.ml.evaluation import BinaryClassificationEvaluator\n",
    "from pyspark.ml.feature import HashingTF, IDF, Tokenizer\n",
    "from pyspark.ml.feature import StringIndexer\n",
    "from pyspark.ml import Pipeline\n",
    "from pyspark.ml.regression import LinearRegression\n",
    "from pyspark.ml.evaluation import RegressionEvaluator\n",
    "from pyspark.ml.feature import VectorAssembler"
   ]
  },
  {
   "cell_type": "code",
   "execution_count": 26,
   "metadata": {},
   "outputs": [],
   "source": [
    "sc = SparkContext()\n",
    "sqlContext = SQLContext(sc)"
   ]
  },
  {
   "cell_type": "code",
   "execution_count": 27,
   "metadata": {},
   "outputs": [],
   "source": [
    "# sc.stop()"
   ]
  },
  {
   "cell_type": "code",
   "execution_count": 28,
   "metadata": {},
   "outputs": [],
   "source": [
    "schema = StructType([\n",
    "    StructField(\"col_01\", StringType()),\n",
    "    StructField(\"col_02\", StringType()),\n",
    "    StructField(\"col_03\", StringType()),\n",
    "    StructField(\"col_04\", StringType()),\n",
    "    StructField(\"col_05\", IntegerType()),\n",
    "    StructField(\"col_06\", IntegerType()),\n",
    "    StructField(\"col_07\", IntegerType()),\n",
    "    StructField(\"col_08\", IntegerType()),\n",
    "    \n",
    "])"
   ]
  },
  {
   "cell_type": "code",
   "execution_count": 29,
   "metadata": {},
   "outputs": [],
   "source": [
    "data = []\n",
    "with open('small_tweets.csv', 'r' ) as doc:\n",
    "    reader = csv.DictReader(doc)\n",
    "    for line in reader:\n",
    "        data.append(line)\n",
    "\n",
    "df = sc.parallelize(data).toDF()"
   ]
  },
  {
   "cell_type": "code",
   "execution_count": 30,
   "metadata": {},
   "outputs": [],
   "source": [
    "#data = sqlContext.read.format('csv') \\\n",
    "#.options(header='true', schema=schema) \\\n",
    "#.load('small_tweets.csv')"
   ]
  },
  {
   "cell_type": "code",
   "execution_count": 31,
   "metadata": {},
   "outputs": [
    {
     "name": "stdout",
     "output_type": "stream",
     "text": [
      "+----------+----------------+---------------+-------------+---------------+-------------------+--------------------+--------+\n",
      "|      date|favourites_count|followers_count|retweet_count|    screen_name|             source|                text|verified|\n",
      "+----------+----------------+---------------+-------------+---------------+-------------------+--------------------+--------+\n",
      "|2020-03-22|              37|            125|            0|     ChirpyPaul|   Twitter for iPad|I have overhead p...|       0|\n",
      "|2020-03-23|              99|             75|            0|   CreeperErock|          Instagram|Check in with you...|       0|\n",
      "|2020-03-13|            2398|           1121|            0|  UsamaAlshaibi| Twitter for iPhone|Grocery stores ar...|       0|\n",
      "|2020-03-30|             652|            152|            0|        jpcybil| Twitter for iPhone|A day in the life...|       0|\n",
      "|2020-03-28|            1622|            263|            0| basu_subhashis|Twitter for Android|Distribution of f...|       0|\n",
      "|2020-03-31|              52|            279|            0|     CodeTactic|     Hootsuite Inc.|Take this time to...|       0|\n",
      "|2020-03-25|           14131|            302|            0|  ADriftingNerd|Twitter for Android|According to @CNN...|       0|\n",
      "|2020-03-16|           38532|           4521|            0|    OscarsWild1|     Hootsuite Inc.|Article that repo...|       0|\n",
      "|2020-03-13|             389|             86|            0|  PierreOutHere| Twitter for iPhone|Imma be fucking u...|       0|\n",
      "|2020-03-07|           12204|            158|            1|       JFGagne3|    Twitter Web App|#COVID19 • #nCoV ...|       0|\n",
      "|2020-03-16|            9273|           2721|            1|        KimGuim| Twitter Web Client|LA County release...|       1|\n",
      "|2020-03-26|               3|              9|            0|  _CeeTooPretty|Twitter for Android|With my kid aroun...|       0|\n",
      "|2020-03-13|              16|              0|            0|kjldfnlgkjbndbo| Twitter for iPhone|@MiamiSup @MDCPS ...|       0|\n",
      "|2020-03-16|            9687|            357|            0|    back_badger| Twitter for iPhone|I am not one for ...|       0|\n",
      "|2020-03-23|            2045|           1389|            0|    Neil_Kubica|    Twitter Web App|@moderna_tx dosed...|       0|\n",
      "|2020-03-27|              67|            944|            0|   zubairsalroo| Twitter for iPhone|Coronavirus pande...|       0|\n",
      "|2020-03-14|           53767|           1691|            0|      redhead57| Twitter for iPhone|@AllybeeT @OANN @...|       0|\n",
      "|2020-03-20|             161|           2840|            0|  HarJournalist| Twitter for iPhone|Day 7 self quaran...|       0|\n",
      "|2020-03-22|            2815|         228600|           53|     Gobinath_C| Twitter for iPhone|👏👏👏 Appreciate...|       1|\n",
      "|2020-03-12|           12407|            319|            0| somaticdreamer|Twitter for Android|Trip to the Domin...|       0|\n",
      "+----------+----------------+---------------+-------------+---------------+-------------------+--------------------+--------+\n",
      "only showing top 20 rows\n",
      "\n"
     ]
    }
   ],
   "source": [
    "df.show()"
   ]
  },
  {
   "cell_type": "code",
   "execution_count": 32,
   "metadata": {},
   "outputs": [
    {
     "name": "stdout",
     "output_type": "stream",
     "text": [
      "root\n",
      " |-- date: string (nullable = true)\n",
      " |-- favourites_count: string (nullable = true)\n",
      " |-- followers_count: string (nullable = true)\n",
      " |-- retweet_count: string (nullable = true)\n",
      " |-- screen_name: string (nullable = true)\n",
      " |-- source: string (nullable = true)\n",
      " |-- text: string (nullable = true)\n",
      " |-- verified: string (nullable = true)\n",
      "\n"
     ]
    }
   ],
   "source": [
    "df.printSchema()"
   ]
  },
  {
   "cell_type": "code",
   "execution_count": 33,
   "metadata": {},
   "outputs": [],
   "source": [
    "flag1 = df.withColumn(\"favourites_count\", df[\"favourites_count\"].cast(IntegerType()))"
   ]
  },
  {
   "cell_type": "code",
   "execution_count": 34,
   "metadata": {},
   "outputs": [],
   "source": [
    "flag2 = flag1.withColumn(\"retweet_count\", flag1[\"retweet_count\"].cast(IntegerType()))"
   ]
  },
  {
   "cell_type": "code",
   "execution_count": 35,
   "metadata": {},
   "outputs": [],
   "source": [
    "flag3 = flag2.withColumn(\"followers_count\", flag2[\"followers_count\"].cast(IntegerType()))"
   ]
  },
  {
   "cell_type": "code",
   "execution_count": 36,
   "metadata": {},
   "outputs": [],
   "source": [
    "dfnew = flag3.withColumn(\"verified\", flag3[\"verified\"].cast(IntegerType()))"
   ]
  },
  {
   "cell_type": "code",
   "execution_count": 37,
   "metadata": {},
   "outputs": [
    {
     "name": "stdout",
     "output_type": "stream",
     "text": [
      "root\n",
      " |-- date: string (nullable = true)\n",
      " |-- favourites_count: integer (nullable = true)\n",
      " |-- followers_count: integer (nullable = true)\n",
      " |-- retweet_count: integer (nullable = true)\n",
      " |-- screen_name: string (nullable = true)\n",
      " |-- source: string (nullable = true)\n",
      " |-- text: string (nullable = true)\n",
      " |-- verified: integer (nullable = true)\n",
      "\n"
     ]
    }
   ],
   "source": [
    "dfnew.printSchema()"
   ]
  },
  {
   "cell_type": "code",
   "execution_count": 38,
   "metadata": {},
   "outputs": [
    {
     "name": "stdout",
     "output_type": "stream",
     "text": [
      "+----------+----------------+---------------+-------------+--------------+-------------------+--------------------+--------+\n",
      "|      date|favourites_count|followers_count|retweet_count|   screen_name|             source|                text|verified|\n",
      "+----------+----------------+---------------+-------------+--------------+-------------------+--------------------+--------+\n",
      "|2020-03-22|              37|            125|            0|    ChirpyPaul|   Twitter for iPad|I have overhead p...|       0|\n",
      "|2020-03-23|              99|             75|            0|  CreeperErock|          Instagram|Check in with you...|       0|\n",
      "|2020-03-13|            2398|           1121|            0| UsamaAlshaibi| Twitter for iPhone|Grocery stores ar...|       0|\n",
      "|2020-03-30|             652|            152|            0|       jpcybil| Twitter for iPhone|A day in the life...|       0|\n",
      "|2020-03-28|            1622|            263|            0|basu_subhashis|Twitter for Android|Distribution of f...|       0|\n",
      "+----------+----------------+---------------+-------------+--------------+-------------------+--------------------+--------+\n",
      "only showing top 5 rows\n",
      "\n"
     ]
    }
   ],
   "source": [
    "dfnew.show(5)"
   ]
  },
  {
   "cell_type": "code",
   "execution_count": 46,
   "metadata": {},
   "outputs": [
    {
     "name": "stdout",
     "output_type": "stream",
     "text": [
      "+----------+----------------+---------------+-------------+--------------+-------------------+--------------------+--------+--------------------+--------------------+--------------------+------+\n",
      "|      date|favourites_count|followers_count|retweet_count|   screen_name|             source|                text|verified|               words|                  tf|       text_features| label|\n",
      "+----------+----------------+---------------+-------------+--------------+-------------------+--------------------+--------+--------------------+--------------------+--------------------+------+\n",
      "|2020-03-22|              37|            125|            0|    ChirpyPaul|   Twitter for iPad|I have overhead p...|       0|[i, have, overhea...|(65536,[1198,2410...|(65536,[1198,2410...|  51.0|\n",
      "|2020-03-23|              99|             75|            0|  CreeperErock|          Instagram|Check in with you...|       0|[check, in, with,...|(65536,[3654,4742...|(65536,[3654,4742...| 114.0|\n",
      "|2020-03-13|            2398|           1121|            0| UsamaAlshaibi| Twitter for iPhone|Grocery stores ar...|       0|[grocery, stores,...|(65536,[2842,7605...|(65536,[2842,7605...|3293.0|\n",
      "|2020-03-30|             652|            152|            0|       jpcybil| Twitter for iPhone|A day in the life...|       0|[a, day, in, the,...|(65536,[1176,4742...|(65536,[1176,4742...| 474.0|\n",
      "|2020-03-28|            1622|            263|            0|basu_subhashis|Twitter for Android|Distribution of f...|       0|[distribution, of...|(65536,[2071,5041...|(65536,[2071,5041...|1357.0|\n",
      "+----------+----------------+---------------+-------------+--------------+-------------------+--------------------+--------+--------------------+--------------------+--------------------+------+\n",
      "only showing top 5 rows\n",
      "\n"
     ]
    }
   ],
   "source": [
    "tokenizer = Tokenizer(inputCol=\"text\", outputCol=\"words\")\n",
    "hashtf = HashingTF(numFeatures=2**16, inputCol=\"words\", outputCol='tf')\n",
    "idf = IDF(inputCol='tf', outputCol=\"text_features\", minDocFreq=5) #minDocFreq: remove sparse terms\n",
    "label_stringIdx = StringIndexer(inputCol = \"favourites_count\", outputCol = \"label\")\n",
    "pipeline = Pipeline(stages=[tokenizer, hashtf, idf, label_stringIdx])\n",
    "\n",
    "pipelineFit = pipeline.fit(dfnew)\n",
    "model_df = pipelineFit.transform(dfnew)\n",
    "model_df.show(5)\n"
   ]
  },
  {
   "cell_type": "code",
   "execution_count": 47,
   "metadata": {},
   "outputs": [
    {
     "name": "stdout",
     "output_type": "stream",
     "text": [
      "+--------------------+------+\n",
      "|            features| label|\n",
      "+--------------------+------+\n",
      "|(131075,[0,1201,2...|  51.0|\n",
      "|(131075,[0,3657,4...| 114.0|\n",
      "|(131075,[0,2845,7...|3293.0|\n",
      "+--------------------+------+\n",
      "only showing top 3 rows\n",
      "\n"
     ]
    }
   ],
   "source": [
    "vectorAssembler = VectorAssembler(inputCols = ['followers_count', 'retweet_count', 'verified', 'tf', 'text_features'], outputCol = 'features')\n",
    "model_df = vectorAssembler.transform(model_df)\n",
    "model_df = model_df.select(['features', 'label'])\n",
    "model_df.show(3)\n"
   ]
  },
  {
   "cell_type": "code",
   "execution_count": 48,
   "metadata": {},
   "outputs": [],
   "source": [
    "(train_set, val_set, test_set) = model_df.randomSplit([0.8, 0.1, 0.1], seed = 2000)"
   ]
  },
  {
   "cell_type": "code",
   "execution_count": 49,
   "metadata": {},
   "outputs": [
    {
     "name": "stdout",
     "output_type": "stream",
     "text": [
      "RMSE: 1752.997339\n",
      "r2: 0.935605\n"
     ]
    }
   ],
   "source": [
    "lr = LinearRegression(featuresCol = 'features', labelCol='label')\n",
    "lr_model = lr.fit(train_set)\n",
    "trainingSummary = lr_model.summary\n",
    "print(\"RMSE: %f\" % trainingSummary.rootMeanSquaredError)\n",
    "print(\"r2: %f\" % trainingSummary.r2)"
   ]
  },
  {
   "cell_type": "code",
   "execution_count": null,
   "metadata": {},
   "outputs": [],
   "source": [
    "# predictions = lr_model.transform(test_set)\n",
    "# predictions.select(\"prediction\",\"favourites_count\",\"features\").show()\n"
   ]
  }
 ],
 "metadata": {
  "kernelspec": {
   "display_name": "Python 3",
   "language": "python",
   "name": "python3"
  },
  "language_info": {
   "codemirror_mode": {
    "name": "ipython",
    "version": 3
   },
   "file_extension": ".py",
   "mimetype": "text/x-python",
   "name": "python",
   "nbconvert_exporter": "python",
   "pygments_lexer": "ipython3",
   "version": "3.6.7"
  }
 },
 "nbformat": 4,
 "nbformat_minor": 2
}
