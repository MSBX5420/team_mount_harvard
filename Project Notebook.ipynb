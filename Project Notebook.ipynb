{
 "cells": [
  {
   "cell_type": "code",
   "execution_count": 25,
   "metadata": {},
   "outputs": [],
   "source": [
    "import findspark\n",
    "findspark.init()\n",
    "import pyspark as ps\n",
    "import warnings\n",
    "from pyspark.sql import SQLContext\n",
    "from pyspark import SparkContext\n",
    "from pyspark.sql.functions import udf, col\n",
    "from pyspark.sql.types import StringType, IntegerType, FloatType, DoubleType"
   ]
  },
  {
   "cell_type": "code",
   "execution_count": 26,
   "metadata": {},
   "outputs": [],
   "source": [
    "sc = SparkContext()\n",
    "sqlContext = SQLContext(sc)"
   ]
  },
  {
   "cell_type": "code",
   "execution_count": 27,
   "metadata": {},
   "outputs": [],
   "source": [
    "# sc.stop()"
   ]
  },
  {
   "cell_type": "code",
   "execution_count": 28,
   "metadata": {},
   "outputs": [],
   "source": [
    "data = sqlContext.read.format('csv') \\\n",
    ".options(header='true', inferschema='true') \\\n",
    ".load('small_tweets.csv')"
   ]
  },
  {
   "cell_type": "code",
   "execution_count": 29,
   "metadata": {},
   "outputs": [
    {
     "name": "stdout",
     "output_type": "stream",
     "text": [
      "root\n",
      " |-- date: string (nullable = true)\n",
      " |-- screen_name: string (nullable = true)\n",
      " |-- text: string (nullable = true)\n",
      " |-- source: string (nullable = true)\n",
      " |-- favourites_count: string (nullable = true)\n",
      " |-- retweet_count: string (nullable = true)\n",
      " |-- followers_count: string (nullable = true)\n",
      " |-- verified: string (nullable = true)\n",
      "\n"
     ]
    }
   ],
   "source": [
    "data.printSchema()"
   ]
  },
  {
   "cell_type": "code",
   "execution_count": 31,
   "metadata": {},
   "outputs": [],
   "source": [
    "flag1 = data.withColumn(\"favourites_count\", data[\"favourites_count\"].cast(IntegerType()))"
   ]
  },
  {
   "cell_type": "code",
   "execution_count": 32,
   "metadata": {},
   "outputs": [],
   "source": [
    "flag2 = flag1.withColumn(\"retweet_count\", flag1[\"retweet_count\"].cast(IntegerType()))"
   ]
  },
  {
   "cell_type": "code",
   "execution_count": 33,
   "metadata": {},
   "outputs": [],
   "source": [
    "flag3 = flag2.withColumn(\"followers_count\", flag2[\"followers_count\"].cast(IntegerType()))"
   ]
  },
  {
   "cell_type": "code",
   "execution_count": 34,
   "metadata": {},
   "outputs": [],
   "source": [
    "df = flag3.withColumn(\"verified\", flag3[\"verified\"].cast(IntegerType()))"
   ]
  },
  {
   "cell_type": "code",
   "execution_count": 35,
   "metadata": {},
   "outputs": [
    {
     "name": "stdout",
     "output_type": "stream",
     "text": [
      "root\n",
      " |-- date: string (nullable = true)\n",
      " |-- screen_name: string (nullable = true)\n",
      " |-- text: string (nullable = true)\n",
      " |-- source: string (nullable = true)\n",
      " |-- favourites_count: integer (nullable = true)\n",
      " |-- retweet_count: integer (nullable = true)\n",
      " |-- followers_count: integer (nullable = true)\n",
      " |-- verified: integer (nullable = true)\n",
      "\n"
     ]
    }
   ],
   "source": [
    "df.printSchema()"
   ]
  },
  {
   "cell_type": "code",
   "execution_count": 36,
   "metadata": {},
   "outputs": [
    {
     "name": "stdout",
     "output_type": "stream",
     "text": [
      "+--------------------+--------------------+--------------------+------+----------------+-------------+---------------+--------+\n",
      "|                date|         screen_name|                text|source|favourites_count|retweet_count|followers_count|verified|\n",
      "+--------------------+--------------------+--------------------+------+----------------+-------------+---------------+--------+\n",
      "|          2020-03-22|          ChirpyPaul|I have overhead p...|  null|            null|         null|           null|    null|\n",
      "|Holiday caravan p...| themed venues et...|                null|  null|            null|         null|           null|    null|\n",
      "|       Stay at home.|                null|                null|  null|            null|         null|           null|    null|\n",
      "|#Covid_19 https:/...|    Twitter for iPad|                37.0|   0.0|             125|            0|           null|    null|\n",
      "|          2020-03-23|        CreeperErock|Check in with you...|  null|            null|         null|           null|    null|\n",
      "+--------------------+--------------------+--------------------+------+----------------+-------------+---------------+--------+\n",
      "only showing top 5 rows\n",
      "\n"
     ]
    }
   ],
   "source": [
    "df.show(5)"
   ]
  },
  {
   "cell_type": "code",
   "execution_count": 22,
   "metadata": {},
   "outputs": [
    {
     "name": "stdout",
     "output_type": "stream",
     "text": [
      "+--------------------+--------------------+--------------------+------+----------------+-------------+---------------+--------+\n",
      "|                date|         screen_name|                text|source|favourites_count|retweet_count|followers_count|verified|\n",
      "+--------------------+--------------------+--------------------+------+----------------+-------------+---------------+--------+\n",
      "|          2020-03-22|          ChirpyPaul|I have overhead p...|  null|               0|         null|           null|    null|\n",
      "|Holiday caravan p...| themed venues et...|                null|  null|               0|         null|           null|    null|\n",
      "|       Stay at home.|                null|                null|  null|               0|         null|           null|    null|\n",
      "|#Covid_19 https:/...|    Twitter for iPad|                37.0|   0.0|             125|            0|           null|    null|\n",
      "|          2020-03-23|        CreeperErock|Check in with you...|  null|               0|         null|           null|    null|\n",
      "+--------------------+--------------------+--------------------+------+----------------+-------------+---------------+--------+\n",
      "only showing top 5 rows\n",
      "\n"
     ]
    }
   ],
   "source": [
    "df = df.fillna({'favourites_count':'0'}).show(5)\n"
   ]
  },
  {
   "cell_type": "code",
   "execution_count": 23,
   "metadata": {},
   "outputs": [
    {
     "name": "stdout",
     "output_type": "stream",
     "text": [
      "+--------------------+--------------------+--------------------+------+----------------+-------------+---------------+--------+\n",
      "|                date|         screen_name|                text|source|favourites_count|retweet_count|followers_count|verified|\n",
      "+--------------------+--------------------+--------------------+------+----------------+-------------+---------------+--------+\n",
      "|          2020-03-22|          ChirpyPaul|I have overhead p...|  null|            null|         null|           null|    null|\n",
      "|Holiday caravan p...| themed venues et...|                null|  null|            null|         null|           null|    null|\n",
      "|       Stay at home.|                null|                null|  null|            null|         null|           null|    null|\n",
      "|#Covid_19 https:/...|    Twitter for iPad|                37.0|   0.0|             125|            0|           null|    null|\n",
      "|          2020-03-23|        CreeperErock|Check in with you...|  null|            null|         null|           null|    null|\n",
      "+--------------------+--------------------+--------------------+------+----------------+-------------+---------------+--------+\n",
      "only showing top 5 rows\n",
      "\n"
     ]
    }
   ],
   "source": [
    "df.show(5)"
   ]
  },
  {
   "cell_type": "code",
   "execution_count": 68,
   "metadata": {},
   "outputs": [
    {
     "name": "stdout",
     "output_type": "stream",
     "text": [
      "root\n",
      " |-- date: string (nullable = true)\n",
      " |-- screen_name: string (nullable = true)\n",
      " |-- text: string (nullable = true)\n",
      " |-- source: string (nullable = true)\n",
      " |-- favourites_count: integer (nullable = true)\n",
      " |-- retweet_count: string (nullable = true)\n",
      " |-- followers_count: string (nullable = true)\n",
      " |-- verified: string (nullable = true)\n",
      "\n"
     ]
    }
   ],
   "source": [
    "df.printSchema()"
   ]
  },
  {
   "cell_type": "code",
   "execution_count": 48,
   "metadata": {},
   "outputs": [
    {
     "name": "stdout",
     "output_type": "stream",
     "text": [
      "+---------------+------+\n",
      "|   country_code| count|\n",
      "+---------------+------+\n",
      "|           null|121455|\n",
      "|          False| 28823|\n",
      "|           True|  2952|\n",
      "|             US|  1530|\n",
      "|             GB|   464|\n",
      "|            0.0|   334|\n",
      "|             CA|   170|\n",
      "|             IN|   160|\n",
      "|             IE|    71|\n",
      "|          16640|    63|\n",
      "|          16641|    62|\n",
      "|             AU|    60|\n",
      "|            1.0|    54|\n",
      "|          16744|    43|\n",
      "|             NG|    42|\n",
      "|Twitter Web App|    41|\n",
      "|             ZA|    36|\n",
      "|          16580|    32|\n",
      "|            2.0|    32|\n",
      "|             PH|    24|\n",
      "+---------------+------+\n",
      "only showing top 20 rows\n",
      "\n"
     ]
    }
   ],
   "source": [
    "from pyspark.sql.functions import col\n",
    "data.groupBy(\"country_code\") \\\n",
    "    .count() \\\n",
    "    .orderBy(col(\"count\").desc()) \\\n",
    "    .show()"
   ]
  },
  {
   "cell_type": "code",
   "execution_count": 10,
   "metadata": {},
   "outputs": [],
   "source": [
    "drop_list = [['_c0',\n",
    " 'screen_name',\n",
    " 'source',\n",
    " 'favourites_count',\n",
    " 'retweet_count',\n",
    " 'country_code',\n",
    " 'place_full_name',\n",
    " 'followers_count',\n",
    " 'verified',\n",
    " 'lang']]"
   ]
  },
  {
   "cell_type": "code",
   "execution_count": 40,
   "metadata": {},
   "outputs": [
    {
     "data": {
      "text/plain": [
       "['_c0',\n",
       " 'created_at',\n",
       " 'screen_name',\n",
       " 'text',\n",
       " 'source',\n",
       " 'favourites_count',\n",
       " 'retweet_count',\n",
       " 'country_code',\n",
       " 'place_full_name',\n",
       " 'followers_count',\n",
       " 'verified',\n",
       " 'lang']"
      ]
     },
     "execution_count": 40,
     "metadata": {},
     "output_type": "execute_result"
    }
   ],
   "source": [
    "data.columns"
   ]
  }
 ],
 "metadata": {
  "kernelspec": {
   "display_name": "Python 3",
   "language": "python",
   "name": "python3"
  },
  "language_info": {
   "codemirror_mode": {
    "name": "ipython",
    "version": 3
   },
   "file_extension": ".py",
   "mimetype": "text/x-python",
   "name": "python",
   "nbconvert_exporter": "python",
   "pygments_lexer": "ipython3",
   "version": "3.6.7"
  }
 },
 "nbformat": 4,
 "nbformat_minor": 2
}
