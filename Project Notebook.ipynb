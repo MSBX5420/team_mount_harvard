{
 "cells": [
  {
   "cell_type": "code",
   "execution_count": 57,
   "metadata": {},
   "outputs": [],
   "source": [
    "import findspark\n",
    "findspark.init()\n",
    "import pandas as pd\n",
    "import pyspark as ps\n",
    "import warnings\n",
    "from pyspark.sql import SQLContext\n",
    "from pyspark import SparkContext\n",
    "from pyspark.sql.functions import udf, col\n",
    "from pyspark.sql.types import StringType, IntegerType, FloatType, DoubleType, StructType, StructField\n",
    "import csv"
   ]
  },
  {
   "cell_type": "code",
   "execution_count": 62,
   "metadata": {},
   "outputs": [],
   "source": [
    "sc = SparkContext()\n",
    "sqlContext = SQLContext(sc)"
   ]
  },
  {
   "cell_type": "code",
   "execution_count": 61,
   "metadata": {},
   "outputs": [],
   "source": [
    "#sc.stop()"
   ]
  },
  {
   "cell_type": "code",
   "execution_count": 63,
   "metadata": {},
   "outputs": [],
   "source": [
    "schema = StructType([\n",
    "    StructField(\"col_01\", StringType()),\n",
    "    StructField(\"col_02\", StringType()),\n",
    "    StructField(\"col_03\", StringType()),\n",
    "    StructField(\"col_04\", StringType()),\n",
    "    StructField(\"col_05\", IntegerType()),\n",
    "    StructField(\"col_06\", IntegerType()),\n",
    "    StructField(\"col_07\", IntegerType()),\n",
    "    StructField(\"col_08\", IntegerType()),\n",
    "    \n",
    "])"
   ]
  },
  {
   "cell_type": "code",
   "execution_count": 67,
   "metadata": {},
   "outputs": [],
   "source": [
    "data = []\n",
    "with open('small_tweets.csv', 'r' ) as doc:\n",
    "    reader = csv.DictReader(doc)\n",
    "    for line in reader:\n",
    "        data.append(line)\n",
    "\n",
    "df = sc.parallelize(data).toDF()"
   ]
  },
  {
   "cell_type": "code",
   "execution_count": 64,
   "metadata": {},
   "outputs": [],
   "source": [
    "#data = sqlContext.read.format('csv') \\\n",
    "#.options(header='true', schema=schema) \\\n",
    "#.load('small_tweets.csv')"
   ]
  },
  {
   "cell_type": "code",
   "execution_count": 69,
   "metadata": {},
   "outputs": [
    {
     "name": "stdout",
     "output_type": "stream",
     "text": [
      "+----------+----------------+---------------+-------------+---------------+-------------------+--------------------+--------+\n",
      "|      date|favourites_count|followers_count|retweet_count|    screen_name|             source|                text|verified|\n",
      "+----------+----------------+---------------+-------------+---------------+-------------------+--------------------+--------+\n",
      "|2020-03-22|              37|            125|            0|     ChirpyPaul|   Twitter for iPad|I have overhead p...|       0|\n",
      "|2020-03-23|              99|             75|            0|   CreeperErock|          Instagram|Check in with you...|       0|\n",
      "|2020-03-13|            2398|           1121|            0|  UsamaAlshaibi| Twitter for iPhone|Grocery stores ar...|       0|\n",
      "|2020-03-30|             652|            152|            0|        jpcybil| Twitter for iPhone|A day in the life...|       0|\n",
      "|2020-03-28|            1622|            263|            0| basu_subhashis|Twitter for Android|Distribution of f...|       0|\n",
      "|2020-03-31|              52|            279|            0|     CodeTactic|     Hootsuite Inc.|Take this time to...|       0|\n",
      "|2020-03-25|           14131|            302|            0|  ADriftingNerd|Twitter for Android|According to @CNN...|       0|\n",
      "|2020-03-16|           38532|           4521|            0|    OscarsWild1|     Hootsuite Inc.|Article that repo...|       0|\n",
      "|2020-03-13|             389|             86|            0|  PierreOutHere| Twitter for iPhone|Imma be fucking u...|       0|\n",
      "|2020-03-07|           12204|            158|            1|       JFGagne3|    Twitter Web App|#COVID19 • #nCoV ...|       0|\n",
      "|2020-03-16|            9273|           2721|            1|        KimGuim| Twitter Web Client|LA County release...|       1|\n",
      "|2020-03-26|               3|              9|            0|  _CeeTooPretty|Twitter for Android|With my kid aroun...|       0|\n",
      "|2020-03-13|              16|              0|            0|kjldfnlgkjbndbo| Twitter for iPhone|@MiamiSup @MDCPS ...|       0|\n",
      "|2020-03-16|            9687|            357|            0|    back_badger| Twitter for iPhone|I am not one for ...|       0|\n",
      "|2020-03-23|            2045|           1389|            0|    Neil_Kubica|    Twitter Web App|@moderna_tx dosed...|       0|\n",
      "|2020-03-27|              67|            944|            0|   zubairsalroo| Twitter for iPhone|Coronavirus pande...|       0|\n",
      "|2020-03-14|           53767|           1691|            0|      redhead57| Twitter for iPhone|@AllybeeT @OANN @...|       0|\n",
      "|2020-03-20|             161|           2840|            0|  HarJournalist| Twitter for iPhone|Day 7 self quaran...|       0|\n",
      "|2020-03-22|            2815|         228600|           53|     Gobinath_C| Twitter for iPhone|👏👏👏 Appreciate...|       1|\n",
      "|2020-03-12|           12407|            319|            0| somaticdreamer|Twitter for Android|Trip to the Domin...|       0|\n",
      "+----------+----------------+---------------+-------------+---------------+-------------------+--------------------+--------+\n",
      "only showing top 20 rows\n",
      "\n"
     ]
    }
   ],
   "source": [
    "df.show()"
   ]
  },
  {
   "cell_type": "code",
   "execution_count": 70,
   "metadata": {},
   "outputs": [
    {
     "name": "stdout",
     "output_type": "stream",
     "text": [
      "root\n",
      " |-- date: string (nullable = true)\n",
      " |-- favourites_count: string (nullable = true)\n",
      " |-- followers_count: string (nullable = true)\n",
      " |-- retweet_count: string (nullable = true)\n",
      " |-- screen_name: string (nullable = true)\n",
      " |-- source: string (nullable = true)\n",
      " |-- text: string (nullable = true)\n",
      " |-- verified: string (nullable = true)\n",
      "\n"
     ]
    }
   ],
   "source": [
    "df.printSchema()"
   ]
  },
  {
   "cell_type": "code",
   "execution_count": 71,
   "metadata": {},
   "outputs": [],
   "source": [
    "flag1 = df.withColumn(\"favourites_count\", df[\"favourites_count\"].cast(IntegerType()))"
   ]
  },
  {
   "cell_type": "code",
   "execution_count": 72,
   "metadata": {},
   "outputs": [],
   "source": [
    "flag2 = flag1.withColumn(\"retweet_count\", flag1[\"retweet_count\"].cast(IntegerType()))"
   ]
  },
  {
   "cell_type": "code",
   "execution_count": 73,
   "metadata": {},
   "outputs": [],
   "source": [
    "flag3 = flag2.withColumn(\"followers_count\", flag2[\"followers_count\"].cast(IntegerType()))"
   ]
  },
  {
   "cell_type": "code",
   "execution_count": 74,
   "metadata": {},
   "outputs": [],
   "source": [
    "dfnew = flag3.withColumn(\"verified\", flag3[\"verified\"].cast(IntegerType()))"
   ]
  },
  {
   "cell_type": "code",
   "execution_count": 75,
   "metadata": {},
   "outputs": [
    {
     "name": "stdout",
     "output_type": "stream",
     "text": [
      "root\n",
      " |-- date: string (nullable = true)\n",
      " |-- favourites_count: integer (nullable = true)\n",
      " |-- followers_count: integer (nullable = true)\n",
      " |-- retweet_count: integer (nullable = true)\n",
      " |-- screen_name: string (nullable = true)\n",
      " |-- source: string (nullable = true)\n",
      " |-- text: string (nullable = true)\n",
      " |-- verified: integer (nullable = true)\n",
      "\n"
     ]
    }
   ],
   "source": [
    "dfnew.printSchema()"
   ]
  },
  {
   "cell_type": "code",
   "execution_count": 76,
   "metadata": {},
   "outputs": [
    {
     "name": "stdout",
     "output_type": "stream",
     "text": [
      "+----------+----------------+---------------+-------------+--------------+-------------------+--------------------+--------+\n",
      "|      date|favourites_count|followers_count|retweet_count|   screen_name|             source|                text|verified|\n",
      "+----------+----------------+---------------+-------------+--------------+-------------------+--------------------+--------+\n",
      "|2020-03-22|              37|            125|            0|    ChirpyPaul|   Twitter for iPad|I have overhead p...|       0|\n",
      "|2020-03-23|              99|             75|            0|  CreeperErock|          Instagram|Check in with you...|       0|\n",
      "|2020-03-13|            2398|           1121|            0| UsamaAlshaibi| Twitter for iPhone|Grocery stores ar...|       0|\n",
      "|2020-03-30|             652|            152|            0|       jpcybil| Twitter for iPhone|A day in the life...|       0|\n",
      "|2020-03-28|            1622|            263|            0|basu_subhashis|Twitter for Android|Distribution of f...|       0|\n",
      "+----------+----------------+---------------+-------------+--------------+-------------------+--------------------+--------+\n",
      "only showing top 5 rows\n",
      "\n"
     ]
    }
   ],
   "source": [
    "dfnew.show(5)"
   ]
  },
  {
   "cell_type": "code",
   "execution_count": 22,
   "metadata": {},
   "outputs": [
    {
     "name": "stdout",
     "output_type": "stream",
     "text": [
      "+--------------------+--------------------+--------------------+------+----------------+-------------+---------------+--------+\n",
      "|                date|         screen_name|                text|source|favourites_count|retweet_count|followers_count|verified|\n",
      "+--------------------+--------------------+--------------------+------+----------------+-------------+---------------+--------+\n",
      "|          2020-03-22|          ChirpyPaul|I have overhead p...|  null|               0|         null|           null|    null|\n",
      "|Holiday caravan p...| themed venues et...|                null|  null|               0|         null|           null|    null|\n",
      "|       Stay at home.|                null|                null|  null|               0|         null|           null|    null|\n",
      "|#Covid_19 https:/...|    Twitter for iPad|                37.0|   0.0|             125|            0|           null|    null|\n",
      "|          2020-03-23|        CreeperErock|Check in with you...|  null|               0|         null|           null|    null|\n",
      "+--------------------+--------------------+--------------------+------+----------------+-------------+---------------+--------+\n",
      "only showing top 5 rows\n",
      "\n"
     ]
    }
   ],
   "source": [
    "df = df.fillna({'favourites_count':'0'}).show(5)\n"
   ]
  },
  {
   "cell_type": "code",
   "execution_count": 23,
   "metadata": {},
   "outputs": [
    {
     "name": "stdout",
     "output_type": "stream",
     "text": [
      "+--------------------+--------------------+--------------------+------+----------------+-------------+---------------+--------+\n",
      "|                date|         screen_name|                text|source|favourites_count|retweet_count|followers_count|verified|\n",
      "+--------------------+--------------------+--------------------+------+----------------+-------------+---------------+--------+\n",
      "|          2020-03-22|          ChirpyPaul|I have overhead p...|  null|            null|         null|           null|    null|\n",
      "|Holiday caravan p...| themed venues et...|                null|  null|            null|         null|           null|    null|\n",
      "|       Stay at home.|                null|                null|  null|            null|         null|           null|    null|\n",
      "|#Covid_19 https:/...|    Twitter for iPad|                37.0|   0.0|             125|            0|           null|    null|\n",
      "|          2020-03-23|        CreeperErock|Check in with you...|  null|            null|         null|           null|    null|\n",
      "+--------------------+--------------------+--------------------+------+----------------+-------------+---------------+--------+\n",
      "only showing top 5 rows\n",
      "\n"
     ]
    }
   ],
   "source": [
    "df.show(5)"
   ]
  },
  {
   "cell_type": "code",
   "execution_count": 68,
   "metadata": {},
   "outputs": [
    {
     "name": "stdout",
     "output_type": "stream",
     "text": [
      "root\n",
      " |-- date: string (nullable = true)\n",
      " |-- screen_name: string (nullable = true)\n",
      " |-- text: string (nullable = true)\n",
      " |-- source: string (nullable = true)\n",
      " |-- favourites_count: integer (nullable = true)\n",
      " |-- retweet_count: string (nullable = true)\n",
      " |-- followers_count: string (nullable = true)\n",
      " |-- verified: string (nullable = true)\n",
      "\n"
     ]
    }
   ],
   "source": [
    "df.printSchema()"
   ]
  },
  {
   "cell_type": "code",
   "execution_count": 48,
   "metadata": {},
   "outputs": [
    {
     "name": "stdout",
     "output_type": "stream",
     "text": [
      "+---------------+------+\n",
      "|   country_code| count|\n",
      "+---------------+------+\n",
      "|           null|121455|\n",
      "|          False| 28823|\n",
      "|           True|  2952|\n",
      "|             US|  1530|\n",
      "|             GB|   464|\n",
      "|            0.0|   334|\n",
      "|             CA|   170|\n",
      "|             IN|   160|\n",
      "|             IE|    71|\n",
      "|          16640|    63|\n",
      "|          16641|    62|\n",
      "|             AU|    60|\n",
      "|            1.0|    54|\n",
      "|          16744|    43|\n",
      "|             NG|    42|\n",
      "|Twitter Web App|    41|\n",
      "|             ZA|    36|\n",
      "|          16580|    32|\n",
      "|            2.0|    32|\n",
      "|             PH|    24|\n",
      "+---------------+------+\n",
      "only showing top 20 rows\n",
      "\n"
     ]
    }
   ],
   "source": [
    "from pyspark.sql.functions import col\n",
    "data.groupBy(\"country_code\") \\\n",
    "    .count() \\\n",
    "    .orderBy(col(\"count\").desc()) \\\n",
    "    .show()"
   ]
  },
  {
   "cell_type": "code",
   "execution_count": 10,
   "metadata": {},
   "outputs": [],
   "source": [
    "drop_list = [['_c0',\n",
    " 'screen_name',\n",
    " 'source',\n",
    " 'favourites_count',\n",
    " 'retweet_count',\n",
    " 'country_code',\n",
    " 'place_full_name',\n",
    " 'followers_count',\n",
    " 'verified',\n",
    " 'lang']]"
   ]
  },
  {
   "cell_type": "code",
   "execution_count": 40,
   "metadata": {},
   "outputs": [
    {
     "data": {
      "text/plain": [
       "['_c0',\n",
       " 'created_at',\n",
       " 'screen_name',\n",
       " 'text',\n",
       " 'source',\n",
       " 'favourites_count',\n",
       " 'retweet_count',\n",
       " 'country_code',\n",
       " 'place_full_name',\n",
       " 'followers_count',\n",
       " 'verified',\n",
       " 'lang']"
      ]
     },
     "execution_count": 40,
     "metadata": {},
     "output_type": "execute_result"
    }
   ],
   "source": [
    "data.columns"
   ]
  }
 ],
 "metadata": {
  "kernelspec": {
   "display_name": "Python 3",
   "language": "python",
   "name": "python3"
  },
  "language_info": {
   "codemirror_mode": {
    "name": "ipython",
    "version": 3
   },
   "file_extension": ".py",
   "mimetype": "text/x-python",
   "name": "python",
   "nbconvert_exporter": "python",
   "pygments_lexer": "ipython3",
   "version": "3.6.7"
  }
 },
 "nbformat": 4,
 "nbformat_minor": 2
}
