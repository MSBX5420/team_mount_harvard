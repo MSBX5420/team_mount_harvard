{
 "cells": [
  {
   "cell_type": "code",
   "execution_count": 18,
   "metadata": {},
   "outputs": [],
   "source": [
    "import findspark\n",
    "findspark.init()\n",
    "import pyspark as ps\n",
    "import warnings\n",
    "from pyspark.sql import SQLContext"
   ]
  },
  {
   "cell_type": "code",
   "execution_count": 43,
   "metadata": {},
   "outputs": [],
   "source": [
    "from pyspark.sql import SQLContext\n",
    "from pyspark import SparkContext\n",
    "sc = SparkContext()\n",
    "sqlContext = SQLContext(sc)\n",
    "data = sqlContext.read.format('csv').options(header='true', inferschema='false',index='false').load('small_english_tweets.csv')"
   ]
  },
  {
   "cell_type": "code",
   "execution_count": 49,
   "metadata": {},
   "outputs": [],
   "source": [
    "# sc.stop()"
   ]
  },
  {
   "cell_type": "code",
   "execution_count": 45,
   "metadata": {},
   "outputs": [
    {
     "data": {
      "text/plain": [
       "pyspark.sql.dataframe.DataFrame"
      ]
     },
     "execution_count": 45,
     "metadata": {},
     "output_type": "execute_result"
    }
   ],
   "source": [
    "type(data)"
   ]
  },
  {
   "cell_type": "code",
   "execution_count": 46,
   "metadata": {},
   "outputs": [
    {
     "name": "stdout",
     "output_type": "stream",
     "text": [
      "+--------------------+--------------------+------------+--------------------+------------------+----------------+-------------+------------+---------------+---------------+--------+----+\n",
      "|                 _c0|          created_at| screen_name|                text|            source|favourites_count|retweet_count|country_code|place_full_name|followers_count|verified|lang|\n",
      "+--------------------+--------------------+------------+--------------------+------------------+----------------+-------------+------------+---------------+---------------+--------+----+\n",
      "|            12580835|2020-03-26T04:01:14Z|  AnnaKealan|hoping for more c...|Twitter for iPhone|             0.0|          0.0|        null|           null|             10|   False|  en|\n",
      "|              590296|2020-03-12T04:04:07Z|DrPaulRLong1|Is Trump even con...|              null|            null|         null|        null|           null|           null|    null|null|\n",
      "|#CoronavirusPande...|                null|        null|                null|              null|            null|         null|        null|           null|           null|    null|null|\n",
      "|             #COVID\"|  Twitter for iPhone|        51.0|                 1.0|              null|            null|          6.0|       False|             en|           null|    null|null|\n",
      "|             7853272|2020-03-21T04:26:47Z|Sakthi_match|#coronavirus #Cov...|Twitter for iPhone|            41.0|          0.0|        null|           null|             61|   False|  en|\n",
      "+--------------------+--------------------+------------+--------------------+------------------+----------------+-------------+------------+---------------+---------------+--------+----+\n",
      "only showing top 5 rows\n",
      "\n"
     ]
    }
   ],
   "source": [
    "data.show(5)"
   ]
  },
  {
   "cell_type": "code",
   "execution_count": 48,
   "metadata": {},
   "outputs": [
    {
     "name": "stdout",
     "output_type": "stream",
     "text": [
      "+---------------+------+\n",
      "|   country_code| count|\n",
      "+---------------+------+\n",
      "|           null|121455|\n",
      "|          False| 28823|\n",
      "|           True|  2952|\n",
      "|             US|  1530|\n",
      "|             GB|   464|\n",
      "|            0.0|   334|\n",
      "|             CA|   170|\n",
      "|             IN|   160|\n",
      "|             IE|    71|\n",
      "|          16640|    63|\n",
      "|          16641|    62|\n",
      "|             AU|    60|\n",
      "|            1.0|    54|\n",
      "|          16744|    43|\n",
      "|             NG|    42|\n",
      "|Twitter Web App|    41|\n",
      "|             ZA|    36|\n",
      "|          16580|    32|\n",
      "|            2.0|    32|\n",
      "|             PH|    24|\n",
      "+---------------+------+\n",
      "only showing top 20 rows\n",
      "\n"
     ]
    }
   ],
   "source": [
    "from pyspark.sql.functions import col\n",
    "data.groupBy(\"country_code\") \\\n",
    "    .count() \\\n",
    "    .orderBy(col(\"count\").desc()) \\\n",
    "    .show()"
   ]
  },
  {
   "cell_type": "code",
   "execution_count": 10,
   "metadata": {},
   "outputs": [],
   "source": [
    "drop_list = [['_c0',\n",
    " 'screen_name',\n",
    " 'source',\n",
    " 'favourites_count',\n",
    " 'retweet_count',\n",
    " 'country_code',\n",
    " 'place_full_name',\n",
    " 'followers_count',\n",
    " 'verified',\n",
    " 'lang']]"
   ]
  },
  {
   "cell_type": "code",
   "execution_count": 40,
   "metadata": {},
   "outputs": [
    {
     "data": {
      "text/plain": [
       "['_c0',\n",
       " 'created_at',\n",
       " 'screen_name',\n",
       " 'text',\n",
       " 'source',\n",
       " 'favourites_count',\n",
       " 'retweet_count',\n",
       " 'country_code',\n",
       " 'place_full_name',\n",
       " 'followers_count',\n",
       " 'verified',\n",
       " 'lang']"
      ]
     },
     "execution_count": 40,
     "metadata": {},
     "output_type": "execute_result"
    }
   ],
   "source": [
    "data.columns"
   ]
  }
 ],
 "metadata": {
  "kernelspec": {
   "display_name": "Python 3",
   "language": "python",
   "name": "python3"
  },
  "language_info": {
   "codemirror_mode": {
    "name": "ipython",
    "version": 3
   },
   "file_extension": ".py",
   "mimetype": "text/x-python",
   "name": "python",
   "nbconvert_exporter": "python",
   "pygments_lexer": "ipython3",
   "version": "3.6.7"
  }
 },
 "nbformat": 4,
 "nbformat_minor": 2
}
